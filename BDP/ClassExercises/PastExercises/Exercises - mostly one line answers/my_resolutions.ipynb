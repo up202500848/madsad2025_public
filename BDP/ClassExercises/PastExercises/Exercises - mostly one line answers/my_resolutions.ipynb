{
 "cells": [
  {
   "cell_type": "markdown",
   "id": "3f8d4036",
   "metadata": {},
   "source": [
    "# Some utils"
   ]
  },
  {
   "cell_type": "code",
   "execution_count": 42,
   "id": "9a6af097",
   "metadata": {},
   "outputs": [],
   "source": [
    "import time\n",
    "import numpy as np\n",
    "import pandas as pd\n",
    "import dis\n",
    "\n",
    "def measure(fn, *args, **kwargs):\n",
    "    \"\"\"\n",
    "    Measures the execution time of a function `fn` with optional arguments.\n",
    "\n",
    "    Parameters:\n",
    "        fn (callable): The function to measure.\n",
    "        *args: Positional arguments to pass to `fn`.\n",
    "        **kwargs: Keyword arguments to pass to `fn`.\n",
    "\n",
    "    Returns:\n",
    "        result: The return value of `fn`.\n",
    "        duration: Time taken to execute `fn`, in milliseconds.\n",
    "    \"\"\"\n",
    "    start_time = time.time()\n",
    "    result = fn(*args, **kwargs)\n",
    "    end_time = time.time()\n",
    "    duration = end_time - start_time\n",
    "    return result, duration\n"
   ]
  },
  {
   "cell_type": "markdown",
   "id": "8b70fe8f",
   "metadata": {},
   "source": [
    "# Exercises - mostly one line answers"
   ]
  },
  {
   "cell_type": "markdown",
   "id": "3c4228c3",
   "metadata": {},
   "source": [
    "1. Given a list L with numbers extract the sub-list of the members that are on even positions (consider the position as the one that is used by python)."
   ]
  },
  {
   "cell_type": "code",
   "execution_count": 88,
   "id": "f14cf14a",
   "metadata": {},
   "outputs": [
    {
     "data": {
      "text/plain": [
       "[10, 12, 14, 16]"
      ]
     },
     "execution_count": 88,
     "metadata": {},
     "output_type": "execute_result"
    }
   ],
   "source": [
    "L=[10,11,12,13,14,15,16,17]\n",
    "[L[i] for i in range(len(L)) if i%2==0]"
   ]
  },
  {
   "cell_type": "code",
   "execution_count": 89,
   "id": "2d4745d1",
   "metadata": {},
   "outputs": [
    {
     "data": {
      "text/plain": [
       "[10, 12, 14, 16]"
      ]
     },
     "execution_count": 89,
     "metadata": {},
     "output_type": "execute_result"
    }
   ],
   "source": [
    "# prof\n",
    "L[::2]"
   ]
  },
  {
   "cell_type": "markdown",
   "id": "2d7fcc23",
   "metadata": {},
   "source": [
    "2. Consider that L is a list, write an instruction in python that shift all elements to the right moving the last to the first position.\n",
    "\n",
    "Example: if L=[4,7,4,3,1] then after executing the instruction L should be [1,4,7,4,3]\n"
   ]
  },
  {
   "cell_type": "code",
   "execution_count": 1,
   "id": "a651ac6e",
   "metadata": {},
   "outputs": [
    {
     "data": {
      "text/plain": [
       "[1, 4, 7, 4, 3]"
      ]
     },
     "execution_count": 1,
     "metadata": {},
     "output_type": "execute_result"
    }
   ],
   "source": [
    "L=[4,7,4,3,1]\n",
    "[L[-1]]+L[:-1]"
   ]
  },
  {
   "cell_type": "code",
   "execution_count": 2,
   "id": "9ff72223",
   "metadata": {},
   "outputs": [
    {
     "ename": "TypeError",
     "evalue": "unsupported operand type(s) for +: 'int' and 'list'",
     "output_type": "error",
     "traceback": [
      "\u001b[31m---------------------------------------------------------------------------\u001b[39m",
      "\u001b[31mTypeError\u001b[39m                                 Traceback (most recent call last)",
      "\u001b[36mCell\u001b[39m\u001b[36m \u001b[39m\u001b[32mIn[2]\u001b[39m\u001b[32m, line 2\u001b[39m\n\u001b[32m      1\u001b[39m \u001b[38;5;66;03m# prof (wrong)\u001b[39;00m\n\u001b[32m----> \u001b[39m\u001b[32m2\u001b[39m L=\u001b[43mL\u001b[49m\u001b[43m[\u001b[49m\u001b[43m-\u001b[49m\u001b[32;43m1\u001b[39;49m\u001b[43m]\u001b[49m\u001b[43m+\u001b[49m\u001b[43mL\u001b[49m\u001b[43m[\u001b[49m\u001b[43m:\u001b[49m\u001b[43m-\u001b[49m\u001b[32;43m1\u001b[39;49m\u001b[43m]\u001b[49m\n",
      "\u001b[31mTypeError\u001b[39m: unsupported operand type(s) for +: 'int' and 'list'"
     ]
    }
   ],
   "source": [
    "# prof (wrong)\n",
    "L=L[-1]+L[:-1]"
   ]
  },
  {
   "cell_type": "markdown",
   "id": "51bf6f7a",
   "metadata": {},
   "source": [
    "3. Given a list L with distinct numbers write an instruction in python that computes the second highest member."
   ]
  },
  {
   "cell_type": "code",
   "execution_count": 3,
   "id": "6140f752",
   "metadata": {},
   "outputs": [
    {
     "data": {
      "text/plain": [
       "6"
      ]
     },
     "execution_count": 3,
     "metadata": {},
     "output_type": "execute_result"
    }
   ],
   "source": [
    "L=[1,3,2,4,5,6,3,7,2]\n",
    "sorted(L)[-2]\n"
   ]
  },
  {
   "cell_type": "markdown",
   "id": "0806020d",
   "metadata": {},
   "source": [
    "4. Consider a list L with distinct numbers, write an one line instruction in python that swap the maximum with the minimum of L.\n",
    "\n",
    "Example: if L=[3,1,5,2,8,7] so after executing the instruction L should\n",
    "be [3,8,5,2,1,7]."
   ]
  },
  {
   "cell_type": "code",
   "execution_count": 19,
   "id": "863c122b",
   "metadata": {},
   "outputs": [
    {
     "name": "stdout",
     "output_type": "stream",
     "text": [
      "[3, 1, 5, 2, 8, 7]\n"
     ]
    },
    {
     "data": {
      "text/plain": [
       "[3, 8, 5, 2, 1, 7]"
      ]
     },
     "execution_count": 19,
     "metadata": {},
     "output_type": "execute_result"
    }
   ],
   "source": [
    "L=[3,1,5,2,8,7]\n",
    "print(L)\n",
    "(L[L.index(max(L))], L[L.index(min(L))]) = (min(L), max(L))\n",
    "L"
   ]
  },
  {
   "cell_type": "markdown",
   "id": "a5f09971",
   "metadata": {},
   "source": [
    "5. Consider that we have two lists, L and S with the same size. Suppose also that the members of S are all of type bool. Write an instruction in python that output the sub-list of L whose corresponding members of S are True."
   ]
  },
  {
   "cell_type": "code",
   "execution_count": 20,
   "id": "0fbf3258",
   "metadata": {},
   "outputs": [
    {
     "data": {
      "text/plain": [
       "[10, 12, 16]"
      ]
     },
     "execution_count": 20,
     "metadata": {},
     "output_type": "execute_result"
    }
   ],
   "source": [
    "L=[10,11,12,13,14,15,16]\n",
    "S=[True, False, True, False, False, False, True]\n",
    "[L[i] for i in range(len(L)) if S[i]]"
   ]
  },
  {
   "cell_type": "markdown",
   "id": "02fdbaee",
   "metadata": {},
   "source": [
    "6. Write an instruction in python to create a list with the integers from 1 to 100 (including 100) and create a variable X to store it."
   ]
  },
  {
   "cell_type": "code",
   "execution_count": 21,
   "id": "9ecf322a",
   "metadata": {},
   "outputs": [
    {
     "data": {
      "text/plain": [
       "[1,\n",
       " 2,\n",
       " 3,\n",
       " 4,\n",
       " 5,\n",
       " 6,\n",
       " 7,\n",
       " 8,\n",
       " 9,\n",
       " 10,\n",
       " 11,\n",
       " 12,\n",
       " 13,\n",
       " 14,\n",
       " 15,\n",
       " 16,\n",
       " 17,\n",
       " 18,\n",
       " 19,\n",
       " 20,\n",
       " 21,\n",
       " 22,\n",
       " 23,\n",
       " 24,\n",
       " 25,\n",
       " 26,\n",
       " 27,\n",
       " 28,\n",
       " 29,\n",
       " 30,\n",
       " 31,\n",
       " 32,\n",
       " 33,\n",
       " 34,\n",
       " 35,\n",
       " 36,\n",
       " 37,\n",
       " 38,\n",
       " 39,\n",
       " 40,\n",
       " 41,\n",
       " 42,\n",
       " 43,\n",
       " 44,\n",
       " 45,\n",
       " 46,\n",
       " 47,\n",
       " 48,\n",
       " 49,\n",
       " 50,\n",
       " 51,\n",
       " 52,\n",
       " 53,\n",
       " 54,\n",
       " 55,\n",
       " 56,\n",
       " 57,\n",
       " 58,\n",
       " 59,\n",
       " 60,\n",
       " 61,\n",
       " 62,\n",
       " 63,\n",
       " 64,\n",
       " 65,\n",
       " 66,\n",
       " 67,\n",
       " 68,\n",
       " 69,\n",
       " 70,\n",
       " 71,\n",
       " 72,\n",
       " 73,\n",
       " 74,\n",
       " 75,\n",
       " 76,\n",
       " 77,\n",
       " 78,\n",
       " 79,\n",
       " 80,\n",
       " 81,\n",
       " 82,\n",
       " 83,\n",
       " 84,\n",
       " 85,\n",
       " 86,\n",
       " 87,\n",
       " 88,\n",
       " 89,\n",
       " 90,\n",
       " 91,\n",
       " 92,\n",
       " 93,\n",
       " 94,\n",
       " 95,\n",
       " 96,\n",
       " 97,\n",
       " 98,\n",
       " 99,\n",
       " 100]"
      ]
     },
     "execution_count": 21,
     "metadata": {},
     "output_type": "execute_result"
    }
   ],
   "source": [
    "[x for x in range(1, 101)]"
   ]
  },
  {
   "cell_type": "markdown",
   "id": "8ba2dfe9",
   "metadata": {},
   "source": [
    "7. Consider that you want to creates a list with the perfect squares from 1 to 100^2\n",
    "(including this last). Which instruction do you use inside the loop present bellow?\n",
    "\n",
    "x=[]\n",
    "for i in range(100):\n",
    "    ?????"
   ]
  },
  {
   "cell_type": "code",
   "execution_count": 24,
   "id": "f0d37089",
   "metadata": {},
   "outputs": [
    {
     "data": {
      "text/plain": [
       "[1,\n",
       " 4,\n",
       " 9,\n",
       " 16,\n",
       " 25,\n",
       " 36,\n",
       " 49,\n",
       " 64,\n",
       " 81,\n",
       " 100,\n",
       " 121,\n",
       " 144,\n",
       " 169,\n",
       " 196,\n",
       " 225,\n",
       " 256,\n",
       " 289,\n",
       " 324,\n",
       " 361,\n",
       " 400,\n",
       " 441,\n",
       " 484,\n",
       " 529,\n",
       " 576,\n",
       " 625,\n",
       " 676,\n",
       " 729,\n",
       " 784,\n",
       " 841,\n",
       " 900,\n",
       " 961,\n",
       " 1024,\n",
       " 1089,\n",
       " 1156,\n",
       " 1225,\n",
       " 1296,\n",
       " 1369,\n",
       " 1444,\n",
       " 1521,\n",
       " 1600,\n",
       " 1681,\n",
       " 1764,\n",
       " 1849,\n",
       " 1936,\n",
       " 2025,\n",
       " 2116,\n",
       " 2209,\n",
       " 2304,\n",
       " 2401,\n",
       " 2500,\n",
       " 2601,\n",
       " 2704,\n",
       " 2809,\n",
       " 2916,\n",
       " 3025,\n",
       " 3136,\n",
       " 3249,\n",
       " 3364,\n",
       " 3481,\n",
       " 3600,\n",
       " 3721,\n",
       " 3844,\n",
       " 3969,\n",
       " 4096,\n",
       " 4225,\n",
       " 4356,\n",
       " 4489,\n",
       " 4624,\n",
       " 4761,\n",
       " 4900,\n",
       " 5041,\n",
       " 5184,\n",
       " 5329,\n",
       " 5476,\n",
       " 5625,\n",
       " 5776,\n",
       " 5929,\n",
       " 6084,\n",
       " 6241,\n",
       " 6400,\n",
       " 6561,\n",
       " 6724,\n",
       " 6889,\n",
       " 7056,\n",
       " 7225,\n",
       " 7396,\n",
       " 7569,\n",
       " 7744,\n",
       " 7921,\n",
       " 8100,\n",
       " 8281,\n",
       " 8464,\n",
       " 8649,\n",
       " 8836,\n",
       " 9025,\n",
       " 9216,\n",
       " 9409,\n",
       " 9604,\n",
       " 9801,\n",
       " 10000]"
      ]
     },
     "execution_count": 24,
     "metadata": {},
     "output_type": "execute_result"
    }
   ],
   "source": [
    "X=[]\n",
    "for i in range(100):\n",
    "  X.append((i+1)**2)\n",
    "X"
   ]
  },
  {
   "cell_type": "markdown",
   "id": "7a7fac04",
   "metadata": {},
   "source": [
    "8. Write a one line instruction in python that create the same list mentioned in the last exercise.\n",
    "\n",
    "a) using the function map\n"
   ]
  },
  {
   "cell_type": "code",
   "execution_count": 26,
   "id": "3d8f5c69",
   "metadata": {},
   "outputs": [
    {
     "data": {
      "text/plain": [
       "[1,\n",
       " 4,\n",
       " 9,\n",
       " 16,\n",
       " 25,\n",
       " 36,\n",
       " 49,\n",
       " 64,\n",
       " 81,\n",
       " 100,\n",
       " 121,\n",
       " 144,\n",
       " 169,\n",
       " 196,\n",
       " 225,\n",
       " 256,\n",
       " 289,\n",
       " 324,\n",
       " 361,\n",
       " 400,\n",
       " 441,\n",
       " 484,\n",
       " 529,\n",
       " 576,\n",
       " 625,\n",
       " 676,\n",
       " 729,\n",
       " 784,\n",
       " 841,\n",
       " 900,\n",
       " 961,\n",
       " 1024,\n",
       " 1089,\n",
       " 1156,\n",
       " 1225,\n",
       " 1296,\n",
       " 1369,\n",
       " 1444,\n",
       " 1521,\n",
       " 1600,\n",
       " 1681,\n",
       " 1764,\n",
       " 1849,\n",
       " 1936,\n",
       " 2025,\n",
       " 2116,\n",
       " 2209,\n",
       " 2304,\n",
       " 2401,\n",
       " 2500,\n",
       " 2601,\n",
       " 2704,\n",
       " 2809,\n",
       " 2916,\n",
       " 3025,\n",
       " 3136,\n",
       " 3249,\n",
       " 3364,\n",
       " 3481,\n",
       " 3600,\n",
       " 3721,\n",
       " 3844,\n",
       " 3969,\n",
       " 4096,\n",
       " 4225,\n",
       " 4356,\n",
       " 4489,\n",
       " 4624,\n",
       " 4761,\n",
       " 4900,\n",
       " 5041,\n",
       " 5184,\n",
       " 5329,\n",
       " 5476,\n",
       " 5625,\n",
       " 5776,\n",
       " 5929,\n",
       " 6084,\n",
       " 6241,\n",
       " 6400,\n",
       " 6561,\n",
       " 6724,\n",
       " 6889,\n",
       " 7056,\n",
       " 7225,\n",
       " 7396,\n",
       " 7569,\n",
       " 7744,\n",
       " 7921,\n",
       " 8100,\n",
       " 8281,\n",
       " 8464,\n",
       " 8649,\n",
       " 8836,\n",
       " 9025,\n",
       " 9216,\n",
       " 9409,\n",
       " 9604,\n",
       " 9801,\n",
       " 10000]"
      ]
     },
     "execution_count": 26,
     "metadata": {},
     "output_type": "execute_result"
    }
   ],
   "source": [
    "list(map(lambda x: (x+1)**2, range(100)))"
   ]
  },
  {
   "cell_type": "markdown",
   "id": "74e43519",
   "metadata": {},
   "source": [
    "b) Using list comprehension"
   ]
  },
  {
   "cell_type": "code",
   "execution_count": 27,
   "id": "fdc22186",
   "metadata": {},
   "outputs": [
    {
     "data": {
      "text/plain": [
       "[1,\n",
       " 4,\n",
       " 9,\n",
       " 16,\n",
       " 25,\n",
       " 36,\n",
       " 49,\n",
       " 64,\n",
       " 81,\n",
       " 100,\n",
       " 121,\n",
       " 144,\n",
       " 169,\n",
       " 196,\n",
       " 225,\n",
       " 256,\n",
       " 289,\n",
       " 324,\n",
       " 361,\n",
       " 400,\n",
       " 441,\n",
       " 484,\n",
       " 529,\n",
       " 576,\n",
       " 625,\n",
       " 676,\n",
       " 729,\n",
       " 784,\n",
       " 841,\n",
       " 900,\n",
       " 961,\n",
       " 1024,\n",
       " 1089,\n",
       " 1156,\n",
       " 1225,\n",
       " 1296,\n",
       " 1369,\n",
       " 1444,\n",
       " 1521,\n",
       " 1600,\n",
       " 1681,\n",
       " 1764,\n",
       " 1849,\n",
       " 1936,\n",
       " 2025,\n",
       " 2116,\n",
       " 2209,\n",
       " 2304,\n",
       " 2401,\n",
       " 2500,\n",
       " 2601,\n",
       " 2704,\n",
       " 2809,\n",
       " 2916,\n",
       " 3025,\n",
       " 3136,\n",
       " 3249,\n",
       " 3364,\n",
       " 3481,\n",
       " 3600,\n",
       " 3721,\n",
       " 3844,\n",
       " 3969,\n",
       " 4096,\n",
       " 4225,\n",
       " 4356,\n",
       " 4489,\n",
       " 4624,\n",
       " 4761,\n",
       " 4900,\n",
       " 5041,\n",
       " 5184,\n",
       " 5329,\n",
       " 5476,\n",
       " 5625,\n",
       " 5776,\n",
       " 5929,\n",
       " 6084,\n",
       " 6241,\n",
       " 6400,\n",
       " 6561,\n",
       " 6724,\n",
       " 6889,\n",
       " 7056,\n",
       " 7225,\n",
       " 7396,\n",
       " 7569,\n",
       " 7744,\n",
       " 7921,\n",
       " 8100,\n",
       " 8281,\n",
       " 8464,\n",
       " 8649,\n",
       " 8836,\n",
       " 9025,\n",
       " 9216,\n",
       " 9409,\n",
       " 9604,\n",
       " 9801,\n",
       " 10000]"
      ]
     },
     "execution_count": 27,
     "metadata": {},
     "output_type": "execute_result"
    }
   ],
   "source": [
    "[(i+1)**2 for i in range(100)]"
   ]
  },
  {
   "cell_type": "markdown",
   "id": "956f8e8c",
   "metadata": {},
   "source": [
    "9. Given a list L with numbers write an instruction in python that counts the number of times the maximum value occurs in L."
   ]
  },
  {
   "cell_type": "code",
   "execution_count": 70,
   "id": "ab3ce09c",
   "metadata": {},
   "outputs": [
    {
     "data": {
      "text/plain": [
       "0.00024366378784179688"
      ]
     },
     "execution_count": 70,
     "metadata": {},
     "output_type": "execute_result"
    }
   ],
   "source": [
    "L=list(np.random.uniform(0,1,10000))\n",
    "\n",
    "def v1(X):\n",
    "  return sum([1 for l in X if l==max(X)])\n",
    "\n",
    "def v2(X):\n",
    "  m = max(X)\n",
    "  return sum([1 for l in X if l==m])\n",
    "\n",
    "def v3(X):\n",
    "  return X.count(max(X))\n",
    "\n",
    "def v4(X):\n",
    "  m = max(X)\n",
    "  return X.count(m)\n",
    "\n",
    "result, duration = measure(v4, L)\n",
    "duration\n",
    "\n",
    "#dis.dis(v3)\n"
   ]
  },
  {
   "cell_type": "markdown",
   "id": "a2e638a6",
   "metadata": {},
   "source": [
    "10. Given a list L with numbers write an instruction to determine if L has\n",
    "a memeber which is exactly 1/5 of the sum of all members."
   ]
  },
  {
   "cell_type": "code",
   "execution_count": 35,
   "id": "796c69be",
   "metadata": {},
   "outputs": [
    {
     "data": {
      "text/plain": [
       "True"
      ]
     },
     "execution_count": 35,
     "metadata": {},
     "output_type": "execute_result"
    }
   ],
   "source": [
    "L=[1,3,1,3,5,6,3,6,5,8,7,8,14]\n",
    "sum(L)/5 in L"
   ]
  },
  {
   "cell_type": "markdown",
   "id": "551ad017",
   "metadata": {},
   "source": [
    "11. A prime number is a integer (positive) with exactly 2 divisors. A method to find if n is prime consists to test all numbers from 1 to n and test if it divides n. Write a function (named prime) that receives a parameter n and returns True if is prime and False otherwise. (hint: remember that the operator % computes the remainder)"
   ]
  },
  {
   "cell_type": "code",
   "execution_count": 83,
   "id": "1b9bcca9",
   "metadata": {},
   "outputs": [],
   "source": [
    "def prime(n):\n",
    "  return not any([i for i in range(2,1+int(n**0.5)) if n%i==0]) "
   ]
  },
  {
   "cell_type": "code",
   "execution_count": 85,
   "id": "f1953d1a",
   "metadata": {},
   "outputs": [
    {
     "name": "stdout",
     "output_type": "stream",
     "text": [
      "True\n"
     ]
    }
   ],
   "source": [
    "print(prime(101))"
   ]
  },
  {
   "cell_type": "markdown",
   "id": "4cca2aa8",
   "metadata": {},
   "source": [
    "12. Note that the divisors of n can be organized in pairs (d,n/d).\n",
    "\n",
    "Example: 3 divides 12 and 12/3=4 also divides 12. To avoid counting a pair more than once we can restrict to represent (d,n/d) only in the case when d≤n/d.\n",
    "\n",
    "Using this information implement a more efficient function to test if n is a prime."
   ]
  },
  {
   "cell_type": "code",
   "execution_count": null,
   "id": "1679322e",
   "metadata": {},
   "outputs": [],
   "source": []
  },
  {
   "cell_type": "markdown",
   "id": "eb8f8c82",
   "metadata": {},
   "source": [
    "13. Suppose that you want to sort a list L with numbers without applying the sort function. An algorithm to do so is the following create a new list X (starting empty)\n",
    "\n",
    "While L is not empty\n",
    "  \n",
    "  - remove the minimum value of L\n",
    "  - and insert it in the end of X\n",
    "\n",
    "Write a function (named insertSort) that implements this algorithm"
   ]
  },
  {
   "cell_type": "code",
   "execution_count": 107,
   "id": "3b8abb42",
   "metadata": {},
   "outputs": [],
   "source": [
    "def insertSort(L):\n",
    "  X=[]\n",
    "  while len(L) > 0:\n",
    "    m = min(L)\n",
    "    L.remove(m)\n",
    "    X.append(m)\n",
    "  return X"
   ]
  },
  {
   "cell_type": "code",
   "execution_count": 108,
   "id": "e51ec498",
   "metadata": {},
   "outputs": [
    {
     "data": {
      "text/plain": [
       "[1, 2, 3, 4, 5, 6, 7, 8, 9]"
      ]
     },
     "execution_count": 108,
     "metadata": {},
     "output_type": "execute_result"
    }
   ],
   "source": [
    "L=[1,9,2,8,3,7,4,6,5]\n",
    "insertSort(L)\n"
   ]
  },
  {
   "cell_type": "markdown",
   "id": "9bf8d565",
   "metadata": {},
   "source": [
    "14. . Consider that L is a list with integers. Write a segment of code in python that move all odd elements to the begining of the list and all even elements to the end of the same.\n",
    "\n",
    "Example: if L=[4,3,6,7,1,10,8] then after executing the instructions in the code segment L should be [3,7,1,4,6,10,8]"
   ]
  },
  {
   "cell_type": "code",
   "execution_count": null,
   "id": "11af922a",
   "metadata": {},
   "outputs": [
    {
     "data": {
      "text/plain": [
       "[1, 9, 3, 7, 5, 2, 8, 4, 6]"
      ]
     },
     "execution_count": 109,
     "metadata": {},
     "output_type": "execute_result"
    }
   ],
   "source": [
    "L=[1,9,2,8,3,7,4,6,5]\n",
    "[ x for x in L if x%2==1] + [ x for x in L if x%2==0]"
   ]
  },
  {
   "cell_type": "markdown",
   "id": "1835fff2",
   "metadata": {},
   "source": [
    "## alternative"
   ]
  },
  {
   "cell_type": "code",
   "execution_count": 111,
   "id": "10183508",
   "metadata": {},
   "outputs": [
    {
     "data": {
      "text/plain": [
       "[1, 9, 3, 7, 5, 2, 8, 4, 6]"
      ]
     },
     "execution_count": 111,
     "metadata": {},
     "output_type": "execute_result"
    }
   ],
   "source": [
    "L=[1,9,2,8,3,7,4,6,5]\n",
    "sum(list(map(lambda i: [ x for x in L if x%2==i], [1,0])),[])"
   ]
  }
 ],
 "metadata": {
  "kernelspec": {
   "display_name": "Python 3 (ipykernel)",
   "language": "python",
   "name": "python3"
  },
  "language_info": {
   "codemirror_mode": {
    "name": "ipython",
    "version": 3
   },
   "file_extension": ".py",
   "mimetype": "text/x-python",
   "name": "python",
   "nbconvert_exporter": "python",
   "pygments_lexer": "ipython3",
   "version": "3.13.3"
  }
 },
 "nbformat": 4,
 "nbformat_minor": 5
}
