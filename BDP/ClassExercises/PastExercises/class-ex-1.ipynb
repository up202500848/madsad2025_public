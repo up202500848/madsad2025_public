{
 "cells": [
  {
   "cell_type": "markdown",
   "id": "f6d19383",
   "metadata": {},
   "source": [
    "\n",
    "## Class exercise 1\n"
   ]
  },
  {
   "cell_type": "code",
   "execution_count": 3,
   "id": "81946b69",
   "metadata": {},
   "outputs": [
    {
     "data": {
      "text/plain": [
       "9.289428930717577"
      ]
     },
     "execution_count": 3,
     "metadata": {},
     "output_type": "execute_result"
    }
   ],
   "source": [
    "\n",
    "# ex.1\n",
    "v = sum(map(lambda i: (2*i+1)/(i**2+2), range(1,101)))\n",
    "v"
   ]
  },
  {
   "cell_type": "code",
   "execution_count": 4,
   "id": "1277748e",
   "metadata": {},
   "outputs": [],
   "source": [
    "# ex.2\n",
    "def gcd(a,b):\n",
    "    return (a if b==0 else gcd(b,a%b)); "
   ]
  },
  {
   "cell_type": "code",
   "execution_count": 17,
   "id": "5aefbcbd",
   "metadata": {},
   "outputs": [
    {
     "name": "stdout",
     "output_type": "stream",
     "text": [
      "9\n"
     ]
    }
   ],
   "source": [
    "print(gcd(23022,10359))"
   ]
  },
  {
   "cell_type": "code",
   "execution_count": 18,
   "id": "556d33b5",
   "metadata": {},
   "outputs": [],
   "source": [
    "# ex.3\n",
    "def magic(l):\n",
    "    # validate its a square matrix\n",
    "    side = len(l)\n",
    "    for row in l:\n",
    "        if len(row) != side:\n",
    "            return False\n",
    "\n",
    "    # rows\n",
    "    total = 0\n",
    "    first = True\n",
    "    for row in l:\n",
    "        temp_tot = 0\n",
    "        for element in row:\n",
    "            temp_tot += element\n",
    "        if first:\n",
    "            first = False\n",
    "            total = temp_tot\n",
    "        else:\n",
    "            if temp_tot != total:\n",
    "                return False\n",
    "\n",
    "    # cols\n",
    "    for col in range(0,side):\n",
    "        temp_tot = 0\n",
    "        for row in l:\n",
    "            temp_tot += row[col]\n",
    "        if temp_tot != total:\n",
    "            return False\n",
    "\n",
    "    # diagonals\n",
    "    temp_tot_1 = 0\n",
    "    temp_tot_2 = 0\n",
    "    for i in range(0,side):\n",
    "        #\n",
    "        #  ! x ! . ! . !\n",
    "        #  ! . ! x ! . !\n",
    "        #  ! . ! . ! x !\n",
    "        #\n",
    "        temp_tot_1 += l[i][i]\n",
    "        #\n",
    "        #  ! . ! . ! x !\n",
    "        #  ! . ! x ! . !\n",
    "        #  ! x ! . ! . !\n",
    "        #\n",
    "        temp_tot_2 += l[i][side-i-1]\n",
    "    if temp_tot_1 != total or temp_tot_2 != total:\n",
    "        return False\n",
    "    \n",
    "    return True"
   ]
  },
  {
   "cell_type": "code",
   "execution_count": 19,
   "id": "470eda07",
   "metadata": {},
   "outputs": [],
   "source": [
    "######################################################################\n",
    "# test matrixes\n",
    "######################################################################\n",
    "\n",
    "# Not all rows have same sum\n",
    "not_magic_3x3 = [\n",
    "    [8, 1, 6],\n",
    "    [3, 5, 7],\n",
    "    [4, 9, 3]  # changed last element\n",
    "]\n",
    "\n",
    "# Not square\n",
    "not_square = [\n",
    "    [1, 2, 3],\n",
    "    [4, 5, 6]\n",
    "]\n",
    "\n",
    "# 3x3 Magic Square\n",
    "magic_3x3 = [\n",
    "    [8, 1, 6],\n",
    "    [3, 5, 7],\n",
    "    [4, 9, 2]\n",
    "]\n",
    "\n",
    "# 4x4 Magic Square\n",
    "magic_4x4 = [\n",
    "    [16, 2, 3, 13],\n",
    "    [5, 11, 10, 8],\n",
    "    [9, 7, 6, 12],\n",
    "    [4, 14, 15, 1]\n",
    "]\n",
    "\n",
    "# Diagonals don't match\n",
    "bad_diagonals = [\n",
    "    [2, 7, 6],\n",
    "    [9, 5, 1],\n",
    "    [4, 3, 9]  \n",
    "]\n"
   ]
  },
  {
   "cell_type": "code",
   "execution_count": 20,
   "id": "dedfebaf",
   "metadata": {},
   "outputs": [],
   "source": [
    "##############################################\n",
    "# copilot solutions!\n",
    "# beautiful of course\n",
    "##############################################\n",
    "\n",
    "def magic2(matrix):\n",
    "    # Check if it's a square matrix\n",
    "    side = len(matrix)\n",
    "    if any(len(row) != side for row in matrix):\n",
    "        return False\n",
    "\n",
    "    # Calculate the target sum from the first row\n",
    "    target_sum = sum(matrix[0])\n",
    "\n",
    "    # Check row sums\n",
    "    if any(sum(row) != target_sum for row in matrix):\n",
    "        return False\n",
    "\n",
    "    # Check column sums\n",
    "    for col in range(side):\n",
    "        if sum(matrix[row][col] for row in range(side)) != target_sum:\n",
    "            return False\n",
    "\n",
    "    # Check diagonals\n",
    "    if sum(matrix[i][i] for i in range(side)) != target_sum:\n",
    "        return False\n",
    "    if sum(matrix[i][side - 1 - i] for i in range(side)) != target_sum:\n",
    "        return False\n",
    "\n",
    "    return True"
   ]
  },
  {
   "cell_type": "code",
   "execution_count": 21,
   "id": "a01c8118",
   "metadata": {},
   "outputs": [
    {
     "name": "stdout",
     "output_type": "stream",
     "text": [
      "True\n",
      "True\n",
      "False\n",
      "False\n",
      "False\n",
      "True\n",
      "True\n",
      "False\n",
      "False\n",
      "False\n"
     ]
    }
   ],
   "source": [
    "print(magic(magic_3x3))       # True\n",
    "print(magic(magic_4x4))       # True\n",
    "print(magic(not_magic_3x3))   # False\n",
    "print(magic(not_square))      # False\n",
    "print(magic(bad_diagonals))   # False\n",
    "\n",
    "\n",
    "print(magic2(magic_3x3))       # True\n",
    "print(magic2(magic_4x4))       # True\n",
    "print(magic2(not_magic_3x3))   # False\n",
    "print(magic2(not_square))      # False\n",
    "print(magic2(bad_diagonals))   # False\n"
   ]
  }
 ],
 "metadata": {
  "kernelspec": {
   "display_name": "Python 3 (ipykernel)",
   "language": "python",
   "name": "python3"
  },
  "language_info": {
   "codemirror_mode": {
    "name": "ipython",
    "version": 3
   },
   "file_extension": ".py",
   "mimetype": "text/x-python",
   "name": "python",
   "nbconvert_exporter": "python",
   "pygments_lexer": "ipython3",
   "version": "3.13.3"
  }
 },
 "nbformat": 4,
 "nbformat_minor": 5
}
