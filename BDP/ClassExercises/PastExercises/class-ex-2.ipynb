{
 "cells": [
  {
   "cell_type": "markdown",
   "id": "8d0d2505",
   "metadata": {},
   "source": []
  },
  {
   "cell_type": "code",
   "execution_count": 1,
   "id": "5ff2a7e7",
   "metadata": {},
   "outputs": [],
   "source": [
    "from itertools import chain"
   ]
  },
  {
   "cell_type": "code",
   "execution_count": 2,
   "id": "8fc3393a",
   "metadata": {},
   "outputs": [],
   "source": [
    "def hondt(votes, seats):\n",
    "\n",
    "  quocients = map(\n",
    "      lambda p: map(\n",
    "          lambda i: {\"party\": p[0], \"quotient\": p[1] / i},\n",
    "          range(1, seats + 1)\n",
    "      ),\n",
    "      enumerate(votes)\n",
    "  )\n",
    "\n",
    "  quotients_list = list(chain.from_iterable(quocients))\n",
    "  quotients_list.sort(key=lambda x: x[\"quotient\"], reverse=True)\n",
    "\n",
    "  occupied_seats = [0] * len(votes)\n",
    "  for entry in quotients_list[:seats]:\n",
    "      occupied_seats[entry['party']] += 1\n",
    "\n",
    "  return occupied_seats"
   ]
  },
  {
   "cell_type": "code",
   "execution_count": 3,
   "id": "f35f946b",
   "metadata": {},
   "outputs": [
    {
     "name": "stdout",
     "output_type": "stream",
     "text": [
      "[5, 1, 1, 0]\n"
     ]
    }
   ],
   "source": [
    "print(hondt([24000,7500,4500,3000], 7))"
   ]
  },
  {
   "cell_type": "markdown",
   "id": "5fc1879c",
   "metadata": {},
   "source": [
    "# Manually"
   ]
  },
  {
   "cell_type": "code",
   "execution_count": 10,
   "id": "a06ba4e3",
   "metadata": {},
   "outputs": [
    {
     "data": {
      "text/plain": [
       "[[{'party': 0, 'quotient': 72000.0},\n",
       "  {'party': 0, 'quotient': 36000.0},\n",
       "  {'party': 0, 'quotient': 24000.0},\n",
       "  {'party': 0, 'quotient': 18000.0},\n",
       "  {'party': 0, 'quotient': 14400.0},\n",
       "  {'party': 0, 'quotient': 12000.0}],\n",
       " [{'party': 1, 'quotient': 36000.0},\n",
       "  {'party': 1, 'quotient': 18000.0},\n",
       "  {'party': 1, 'quotient': 12000.0},\n",
       "  {'party': 1, 'quotient': 9000.0},\n",
       "  {'party': 1, 'quotient': 7200.0},\n",
       "  {'party': 1, 'quotient': 6000.0}],\n",
       " [{'party': 2, 'quotient': 10000.0},\n",
       "  {'party': 2, 'quotient': 5000.0},\n",
       "  {'party': 2, 'quotient': 3333.3333333333335},\n",
       "  {'party': 2, 'quotient': 2500.0},\n",
       "  {'party': 2, 'quotient': 2000.0},\n",
       "  {'party': 2, 'quotient': 1666.6666666666667}],\n",
       " [{'party': 3, 'quotient': 2500.0},\n",
       "  {'party': 3, 'quotient': 1250.0},\n",
       "  {'party': 3, 'quotient': 833.3333333333334},\n",
       "  {'party': 3, 'quotient': 625.0},\n",
       "  {'party': 3, 'quotient': 500.0},\n",
       "  {'party': 3, 'quotient': 416.6666666666667}]]"
      ]
     },
     "execution_count": 10,
     "metadata": {},
     "output_type": "execute_result"
    }
   ],
   "source": [
    "seats = 5\n",
    "votes = [72000, 36000, 10000, 2500]\n",
    "quocients = list(map(\n",
    "      lambda p:list(map(\n",
    "          lambda i: {\"party\": p[0], \"quotient\": p[1] / i},\n",
    "          range(1, seats + 2)\n",
    "      )),\n",
    "      enumerate(votes)\n",
    "  ))\n",
    "list(quocients)"
   ]
  }
 ],
 "metadata": {
  "kernelspec": {
   "display_name": "Python 3 (ipykernel)",
   "language": "python",
   "name": "python3"
  },
  "language_info": {
   "codemirror_mode": {
    "name": "ipython",
    "version": 3
   },
   "file_extension": ".py",
   "mimetype": "text/x-python",
   "name": "python",
   "nbconvert_exporter": "python",
   "pygments_lexer": "ipython3",
   "version": "3.13.3"
  }
 },
 "nbformat": 4,
 "nbformat_minor": 5
}
