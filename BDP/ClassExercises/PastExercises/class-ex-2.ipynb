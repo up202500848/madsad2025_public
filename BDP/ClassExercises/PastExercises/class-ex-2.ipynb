{
 "cells": [
  {
   "cell_type": "markdown",
   "id": "8d0d2505",
   "metadata": {},
   "source": []
  }
 ],
 "metadata": {
  "language_info": {
   "name": "python"
  }
 },
 "nbformat": 4,
 "nbformat_minor": 5
}
