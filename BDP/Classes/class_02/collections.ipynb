{
 "cells": [
  {
   "cell_type": "markdown",
   "id": "af457426",
   "metadata": {},
   "source": [
    "## Lists"
   ]
  },
  {
   "cell_type": "code",
   "execution_count": 61,
   "id": "02381dda",
   "metadata": {},
   "outputs": [
    {
     "data": {
      "text/plain": [
       "list"
      ]
     },
     "execution_count": 61,
     "metadata": {},
     "output_type": "execute_result"
    }
   ],
   "source": [
    "a = [3,5,0]\n",
    "type(a)"
   ]
  },
  {
   "cell_type": "code",
   "execution_count": 62,
   "id": "1e4a4881",
   "metadata": {},
   "outputs": [
    {
     "name": "stdout",
     "output_type": "stream",
     "text": [
      "a[0]=3\n",
      "a[1]=5\n",
      "a[2]=0\n",
      "a[-1]=0\n",
      "a[-2]=5\n",
      "a[-3]=3\n"
     ]
    }
   ],
   "source": [
    "print(\"a[{}]={}\".format(0, a[0]))\n",
    "print(\"a[{}]={}\".format(1, a[1]))\n",
    "print(\"a[{}]={}\".format(2, a[2]))\n",
    "print(\"a[{}]={}\".format(-1, a[-1]))\n",
    "print(\"a[{}]={}\".format(-2, a[-2]))\n",
    "print(\"a[{}]={}\".format(-3, a[-3]))"
   ]
  },
  {
   "cell_type": "markdown",
   "id": "75e49844",
   "metadata": {},
   "source": [
    "### append a value to a list"
   ]
  },
  {
   "cell_type": "code",
   "execution_count": 63,
   "id": "9d8f89ad",
   "metadata": {},
   "outputs": [
    {
     "data": {
      "text/plain": [
       "[3, 5, 0, 10, 5]"
      ]
     },
     "execution_count": 63,
     "metadata": {},
     "output_type": "execute_result"
    }
   ],
   "source": [
    "a.append(10)\n",
    "a.append(5)\n",
    "a"
   ]
  },
  {
   "cell_type": "markdown",
   "id": "cb0d94cb",
   "metadata": {},
   "source": [
    "### remove an element from a list"
   ]
  },
  {
   "cell_type": "code",
   "execution_count": 64,
   "id": "5de8ec25",
   "metadata": {},
   "outputs": [
    {
     "data": {
      "text/plain": [
       "[3, 0, 10, 5]"
      ]
     },
     "execution_count": 64,
     "metadata": {},
     "output_type": "execute_result"
    }
   ],
   "source": [
    "a.remove(5) # removes first occurence of 5\n",
    "a"
   ]
  },
  {
   "cell_type": "markdown",
   "id": "1e16a53b",
   "metadata": {},
   "source": [
    "### change an element"
   ]
  },
  {
   "cell_type": "code",
   "execution_count": 65,
   "id": "f92a222d",
   "metadata": {},
   "outputs": [
    {
     "data": {
      "text/plain": [
       "[3, 20, 10, 5]"
      ]
     },
     "execution_count": 65,
     "metadata": {},
     "output_type": "execute_result"
    }
   ],
   "source": [
    "a[1]=20\n",
    "a"
   ]
  },
  {
   "cell_type": "markdown",
   "id": "ac03b071",
   "metadata": {},
   "source": [
    "## Sets\n",
    "\n",
    "A set is an ordered collection of unique values.\n",
    "\n",
    "$$\n",
    "  s=\\{4,2,1,3,1\\}\n",
    "$$\n",
    "\n",
    "and\n",
    "\n",
    "$$\n",
    "  t=\\{1,2,3,4\\}\n",
    "$$\n",
    "\n",
    "are the same set.\n"
   ]
  },
  {
   "cell_type": "code",
   "execution_count": 66,
   "id": "a0d9c398",
   "metadata": {},
   "outputs": [
    {
     "data": {
      "text/plain": [
       "set"
      ]
     },
     "execution_count": 66,
     "metadata": {},
     "output_type": "execute_result"
    }
   ],
   "source": [
    "s1 = {4,2,1,3,1}\n",
    "type(s1)"
   ]
  },
  {
   "cell_type": "code",
   "execution_count": 84,
   "id": "1c702753",
   "metadata": {},
   "outputs": [
    {
     "data": {
      "text/plain": [
       "{1, 2, 3, 4}"
      ]
     },
     "execution_count": 84,
     "metadata": {},
     "output_type": "execute_result"
    }
   ],
   "source": [
    "s1"
   ]
  },
  {
   "cell_type": "code",
   "execution_count": 67,
   "id": "0aa6b642",
   "metadata": {},
   "outputs": [
    {
     "data": {
      "text/plain": [
       "True"
      ]
     },
     "execution_count": 67,
     "metadata": {},
     "output_type": "execute_result"
    }
   ],
   "source": [
    "s2 = {1,2,3,4}\n",
    "s1==s2"
   ]
  },
  {
   "cell_type": "markdown",
   "id": "f654758d",
   "metadata": {},
   "source": [
    "### adding elements to a set"
   ]
  },
  {
   "cell_type": "code",
   "execution_count": 82,
   "id": "c74b0e73",
   "metadata": {},
   "outputs": [
    {
     "data": {
      "text/plain": [
       "{-1, 1, 2, 3, 4, 5}"
      ]
     },
     "execution_count": 82,
     "metadata": {},
     "output_type": "execute_result"
    }
   ],
   "source": [
    "s2.add(-1)\n",
    "s2"
   ]
  },
  {
   "cell_type": "markdown",
   "id": "9fa59d39",
   "metadata": {},
   "source": [
    "### adding an already existing element doesn't change the set"
   ]
  },
  {
   "cell_type": "code",
   "execution_count": 83,
   "id": "e2c1ff6a",
   "metadata": {},
   "outputs": [
    {
     "data": {
      "text/plain": [
       "{-1, 1, 2, 3, 4, 5}"
      ]
     },
     "execution_count": 83,
     "metadata": {},
     "output_type": "execute_result"
    }
   ],
   "source": [
    "s2.add(3)\n",
    "s2"
   ]
  },
  {
   "cell_type": "markdown",
   "id": "522ef5b6",
   "metadata": {},
   "source": [
    "## Tuples"
   ]
  },
  {
   "cell_type": "code",
   "execution_count": 68,
   "id": "871ae8f5",
   "metadata": {},
   "outputs": [
    {
     "data": {
      "text/plain": [
       "tuple"
      ]
     },
     "execution_count": 68,
     "metadata": {},
     "output_type": "execute_result"
    }
   ],
   "source": [
    "t1=(1,2,4)\n",
    "type(t1)"
   ]
  },
  {
   "cell_type": "markdown",
   "id": "7109fe4b",
   "metadata": {},
   "source": [
    "### unlike the set, repetitions and element's order matter"
   ]
  },
  {
   "cell_type": "code",
   "execution_count": 69,
   "id": "ad024802",
   "metadata": {},
   "outputs": [
    {
     "data": {
      "text/plain": [
       "False"
      ]
     },
     "execution_count": 69,
     "metadata": {},
     "output_type": "execute_result"
    }
   ],
   "source": [
    "t2=(2,1,4)\n",
    "t1==t2"
   ]
  },
  {
   "cell_type": "markdown",
   "id": "d66e7783",
   "metadata": {},
   "source": [
    "### accessing a specific element"
   ]
  },
  {
   "cell_type": "code",
   "execution_count": 70,
   "id": "2b0f0ce9",
   "metadata": {},
   "outputs": [
    {
     "name": "stdout",
     "output_type": "stream",
     "text": [
      "Element 0 of tuple t2 is 2\n",
      "Element 1 of tuple t2 is 1\n",
      "Element 2 of tuple t2 is 4\n"
     ]
    }
   ],
   "source": [
    "print(\"Element {} of tuple t2 is {}\".format(0, t2[0]))\n",
    "print(\"Element {} of tuple t2 is {}\".format(1, t2[1]))\n",
    "print(\"Element {} of tuple t2 is {}\".format(2, t2[2]))"
   ]
  },
  {
   "cell_type": "markdown",
   "id": "ddffcaf8",
   "metadata": {},
   "source": [
    "### assigning values to tuples"
   ]
  },
  {
   "cell_type": "code",
   "execution_count": 71,
   "id": "92a44b6b",
   "metadata": {},
   "outputs": [
    {
     "name": "stdout",
     "output_type": "stream",
     "text": [
      "a=1 b=2 c=3\n",
      "a=3 b=2 c=1\n"
     ]
    }
   ],
   "source": [
    "a=1\n",
    "b=2\n",
    "c=3\n",
    "print(\"a={} b={} c={}\".format(a, b, c))\n",
    "(a,b,c) = (c,b,a)\n",
    "print(\"a={} b={} c={}\".format(a, b, c))"
   ]
  },
  {
   "cell_type": "markdown",
   "id": "d5625983",
   "metadata": {},
   "source": [
    "### case where changing a tuple's element is allowed"
   ]
  },
  {
   "cell_type": "code",
   "execution_count": 72,
   "id": "6acfd1f2",
   "metadata": {},
   "outputs": [
    {
     "data": {
      "text/plain": [
       "['david', [1, 2, 5, 4], 3.14]"
      ]
     },
     "execution_count": 72,
     "metadata": {},
     "output_type": "execute_result"
    }
   ],
   "source": [
    "t3=[\"david\", [1,2,5,4], 3.14]\n",
    "t3"
   ]
  },
  {
   "cell_type": "code",
   "execution_count": 73,
   "id": "f78137fe",
   "metadata": {},
   "outputs": [
    {
     "data": {
      "text/plain": [
       "['david', [1, 2, 3, 4], 3.14]"
      ]
     },
     "execution_count": 73,
     "metadata": {},
     "output_type": "execute_result"
    }
   ],
   "source": [
    "t3[1][2]=3\n",
    "t3"
   ]
  },
  {
   "cell_type": "markdown",
   "id": "cae795dc",
   "metadata": {},
   "source": [
    "## Diccionary"
   ]
  },
  {
   "cell_type": "code",
   "execution_count": 74,
   "id": "309f1913",
   "metadata": {},
   "outputs": [
    {
     "data": {
      "text/plain": [
       "dict"
      ]
     },
     "execution_count": 74,
     "metadata": {},
     "output_type": "execute_result"
    }
   ],
   "source": [
    "x={}\n",
    "type(x)"
   ]
  },
  {
   "cell_type": "markdown",
   "id": "208d1cab",
   "metadata": {},
   "source": [
    "### initialize a diccionary with some elements"
   ]
  },
  {
   "cell_type": "code",
   "execution_count": 75,
   "id": "0e252ee4",
   "metadata": {},
   "outputs": [
    {
     "data": {
      "text/plain": [
       "dict"
      ]
     },
     "execution_count": 75,
     "metadata": {},
     "output_type": "execute_result"
    }
   ],
   "source": [
    "y={\"a\":1,\"b\":2}\n",
    "type(y)"
   ]
  },
  {
   "cell_type": "markdown",
   "id": "5b63d459",
   "metadata": {},
   "source": [
    "### adding elements to an existing diccionary"
   ]
  },
  {
   "cell_type": "code",
   "execution_count": 76,
   "id": "4e109dcd",
   "metadata": {},
   "outputs": [
    {
     "data": {
      "text/plain": [
       "{'a': 1, 'b': 2, 'f': 10}"
      ]
     },
     "execution_count": 76,
     "metadata": {},
     "output_type": "execute_result"
    }
   ],
   "source": [
    "y[\"f\"]=10\n",
    "y"
   ]
  },
  {
   "cell_type": "markdown",
   "id": "c4629a08",
   "metadata": {},
   "source": [
    "### changing an element of a diccionary"
   ]
  },
  {
   "cell_type": "code",
   "execution_count": 77,
   "id": "03d9dffd",
   "metadata": {},
   "outputs": [
    {
     "data": {
      "text/plain": [
       "{'a': 1000, 'b': 2, 'f': 10}"
      ]
     },
     "execution_count": 77,
     "metadata": {},
     "output_type": "execute_result"
    }
   ],
   "source": [
    "y[\"a\"] = 1000\n",
    "y"
   ]
  },
  {
   "cell_type": "markdown",
   "id": "9e627df2",
   "metadata": {},
   "source": [
    "### teste if some key is in a diccionary"
   ]
  },
  {
   "cell_type": "code",
   "execution_count": 78,
   "id": "d747b628",
   "metadata": {},
   "outputs": [
    {
     "data": {
      "text/plain": [
       "True"
      ]
     },
     "execution_count": 78,
     "metadata": {},
     "output_type": "execute_result"
    }
   ],
   "source": [
    "\"a\" in y"
   ]
  },
  {
   "cell_type": "code",
   "execution_count": 79,
   "id": "af1532bf",
   "metadata": {},
   "outputs": [
    {
     "data": {
      "text/plain": [
       "False"
      ]
     },
     "execution_count": 79,
     "metadata": {},
     "output_type": "execute_result"
    }
   ],
   "source": [
    "\"w\" in y"
   ]
  },
  {
   "cell_type": "code",
   "execution_count": 96,
   "id": "95e3e28b",
   "metadata": {},
   "outputs": [],
   "source": [
    "it = s1.__iter__()"
   ]
  },
  {
   "cell_type": "code",
   "execution_count": 101,
   "id": "1393398c",
   "metadata": {},
   "outputs": [
    {
     "ename": "StopIteration",
     "evalue": "",
     "output_type": "error",
     "traceback": [
      "\u001b[31m---------------------------------------------------------------------------\u001b[39m",
      "\u001b[31mStopIteration\u001b[39m                             Traceback (most recent call last)",
      "\u001b[36mCell\u001b[39m\u001b[36m \u001b[39m\u001b[32mIn[101]\u001b[39m\u001b[32m, line 1\u001b[39m\n\u001b[32m----> \u001b[39m\u001b[32m1\u001b[39m \u001b[43mit\u001b[49m\u001b[43m.\u001b[49m\u001b[34;43m__next__\u001b[39;49m\u001b[43m(\u001b[49m\u001b[43m)\u001b[49m\n",
      "\u001b[31mStopIteration\u001b[39m: "
     ]
    }
   ],
   "source": [
    "it.__next__()"
   ]
  }
 ],
 "metadata": {
  "kernelspec": {
   "display_name": "Python 3 (ipykernel)",
   "language": "python",
   "name": "python3"
  },
  "language_info": {
   "codemirror_mode": {
    "name": "ipython",
    "version": 3
   },
   "file_extension": ".py",
   "mimetype": "text/x-python",
   "name": "python",
   "nbconvert_exporter": "python",
   "pygments_lexer": "ipython3",
   "version": "3.13.3"
  }
 },
 "nbformat": 4,
 "nbformat_minor": 5
}
