{
 "cells": [
  {
   "cell_type": "markdown",
   "id": "44c1bae2",
   "metadata": {},
   "source": [
    "# Generator functions\n",
    "\n",
    "### yield instruction"
   ]
  },
  {
   "cell_type": "code",
   "execution_count": 16,
   "id": "47f76785",
   "metadata": {},
   "outputs": [],
   "source": [
    "def gen_func_a():\n",
    "  yield 10\n",
    "  print(\"First step\")\n",
    "  yield 20\n",
    "  print(\"Second step\")\n",
    "  yield 30\n",
    "  print(\"Third step\")\n",
    "  yield 40\n",
    "  print(\"Fourth step\")"
   ]
  },
  {
   "cell_type": "code",
   "execution_count": 17,
   "id": "bb81cf52",
   "metadata": {},
   "outputs": [],
   "source": [
    "g=gen_func_a()\n"
   ]
  },
  {
   "cell_type": "code",
   "execution_count": 18,
   "id": "c5f195ea",
   "metadata": {},
   "outputs": [
    {
     "name": "stdout",
     "output_type": "stream",
     "text": [
      "First step\n",
      "Second step\n",
      "Third step\n",
      "Fourth step\n"
     ]
    },
    {
     "ename": "StopIteration",
     "evalue": "",
     "output_type": "error",
     "traceback": [
      "\u001b[31m---------------------------------------------------------------------------\u001b[39m",
      "\u001b[31mStopIteration\u001b[39m                             Traceback (most recent call last)",
      "\u001b[36mCell\u001b[39m\u001b[36m \u001b[39m\u001b[32mIn[18]\u001b[39m\u001b[32m, line 5\u001b[39m\n\u001b[32m      3\u001b[39m \u001b[38;5;28mnext\u001b[39m(g)\n\u001b[32m      4\u001b[39m \u001b[38;5;28mnext\u001b[39m(g)\n\u001b[32m----> \u001b[39m\u001b[32m5\u001b[39m \u001b[38;5;28;43mnext\u001b[39;49m\u001b[43m(\u001b[49m\u001b[43mg\u001b[49m\u001b[43m)\u001b[49m\n",
      "\u001b[31mStopIteration\u001b[39m: "
     ]
    }
   ],
   "source": [
    "next(g)\n",
    "next(g)\n",
    "next(g)\n",
    "next(g)\n",
    "next(g)\n"
   ]
  },
  {
   "cell_type": "code",
   "execution_count": 42,
   "id": "2660e6df",
   "metadata": {},
   "outputs": [],
   "source": [
    "def inFinite():\n",
    "  n=1\n",
    "  while True:\n",
    "    yield n\n",
    "    n=n+1"
   ]
  },
  {
   "cell_type": "code",
   "execution_count": 43,
   "id": "044b7999",
   "metadata": {},
   "outputs": [],
   "source": [
    "i=inFinite()"
   ]
  },
  {
   "cell_type": "code",
   "execution_count": 44,
   "id": "69e83dd6",
   "metadata": {},
   "outputs": [
    {
     "name": "stdout",
     "output_type": "stream",
     "text": [
      "1\n",
      "2\n",
      "3\n",
      "4\n",
      "5\n",
      "6\n",
      "7\n"
     ]
    }
   ],
   "source": [
    "print(next(i))\n",
    "print(next(i))\n",
    "print(next(i))\n",
    "print(next(i))\n",
    "print(next(i))\n",
    "print(next(i))\n",
    "print(next(i))\n"
   ]
  }
 ],
 "metadata": {
  "kernelspec": {
   "display_name": "Python 3 (ipykernel)",
   "language": "python",
   "name": "python3"
  },
  "language_info": {
   "codemirror_mode": {
    "name": "ipython",
    "version": 3
   },
   "file_extension": ".py",
   "mimetype": "text/x-python",
   "name": "python",
   "nbconvert_exporter": "python",
   "pygments_lexer": "ipython3",
   "version": "3.13.3"
  }
 },
 "nbformat": 4,
 "nbformat_minor": 5
}
