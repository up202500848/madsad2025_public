{
 "cells": [
  {
   "cell_type": "markdown",
   "id": "3e8f9a0e",
   "metadata": {},
   "source": [
    "## A 10x10 matrix filled with zeros\n",
    "\n",
    "#### And a \"funny\" behaviour in list comprehension versus list replication.\n",
    "\n",
    "Unsing list comprehension"
   ]
  },
  {
   "cell_type": "code",
   "execution_count": null,
   "id": "45c7d8bf",
   "metadata": {},
   "outputs": [
    {
     "data": {
      "text/plain": [
       "[[0, 0, 0, 0, 0, 0, 0, 0, 0, 0],\n",
       " [0, 0, 0, 0, 0, 0, 0, 0, 0, 0],\n",
       " [0, 0, 0, 0, 0, 0, 0, 0, 0, 0],\n",
       " [0, 0, 0, 0, 0, 0, 0, 0, 0, 0],\n",
       " [0, 0, 0, 0, 0, 0, 0, 0, 0, 0]]"
      ]
     },
     "execution_count": 72,
     "metadata": {},
     "output_type": "execute_result"
    }
   ],
   "source": [
    "B=[[ 0 for i in range(1, 11)] for j in range(1,6)]\n",
    "B"
   ]
  },
  {
   "cell_type": "markdown",
   "id": "495a080c",
   "metadata": {},
   "source": [
    "Changing one element"
   ]
  },
  {
   "cell_type": "code",
   "execution_count": null,
   "id": "746841ac",
   "metadata": {},
   "outputs": [
    {
     "data": {
      "text/plain": [
       "[[0, 0, 0, 0, 0, 0, 0, 0, 0, 0],\n",
       " [0, 0, 0, 7, 0, 0, 0, 0, 0, 0],\n",
       " [0, 0, 0, 0, 0, 0, 0, 0, 0, 0],\n",
       " [0, 0, 0, 0, 0, 0, 0, 0, 0, 0],\n",
       " [0, 0, 0, 0, 0, 0, 0, 0, 0, 0]]"
      ]
     },
     "execution_count": 57,
     "metadata": {},
     "output_type": "execute_result"
    }
   ],
   "source": [
    "B[1][3]=7\n",
    "B"
   ]
  },
  {
   "cell_type": "markdown",
   "id": "41e7514f",
   "metadata": {},
   "source": [
    "## or ...\n",
    "\n",
    "Using list replication"
   ]
  },
  {
   "cell_type": "code",
   "execution_count": null,
   "id": "8376e85e",
   "metadata": {},
   "outputs": [
    {
     "data": {
      "text/plain": [
       "[[0, 0, 0, 0, 0, 0, 0, 0, 0, 0],\n",
       " [0, 0, 0, 0, 0, 0, 0, 0, 0, 0],\n",
       " [0, 0, 0, 0, 0, 0, 0, 0, 0, 0],\n",
       " [0, 0, 0, 0, 0, 0, 0, 0, 0, 0],\n",
       " [0, 0, 0, 0, 0, 0, 0, 0, 0, 0]]"
      ]
     },
     "execution_count": 61,
     "metadata": {},
     "output_type": "execute_result"
    }
   ],
   "source": [
    "A=[[0]*10]*5\n",
    "A"
   ]
  },
  {
   "cell_type": "markdown",
   "id": "b876978d",
   "metadata": {},
   "source": [
    "And changing also \"one\" (?!?!) element.\n",
    "\n",
    "Really just one?!?!?"
   ]
  },
  {
   "cell_type": "code",
   "execution_count": null,
   "id": "b2ce1448",
   "metadata": {},
   "outputs": [
    {
     "data": {
      "text/plain": [
       "[[0, 0, 0, 7, 0, 0, 0, 0, 0, 0],\n",
       " [0, 0, 0, 7, 0, 0, 0, 0, 0, 0],\n",
       " [0, 0, 0, 7, 0, 0, 0, 0, 0, 0],\n",
       " [0, 0, 0, 7, 0, 0, 0, 0, 0, 0],\n",
       " [0, 0, 0, 7, 0, 0, 0, 0, 0, 0]]"
      ]
     },
     "execution_count": 59,
     "metadata": {},
     "output_type": "execute_result"
    }
   ],
   "source": [
    "A[1][3]=7\n",
    "A"
   ]
  },
  {
   "cell_type": "markdown",
   "id": "cd0e7fe2",
   "metadata": {},
   "source": [
    "### Why is this happening?\n",
    "\n",
    "The reason is that [0]*10 create an object in memory (in this case a list) and [[0]*10]*10 copies the reference of that object 10 times, so, each row of the resulting \"matrix\" is in fact the same object. And when you change one row you're changing the object so ...\n"
   ]
  },
  {
   "cell_type": "code",
   "execution_count": 71,
   "id": "69ad5272",
   "metadata": {},
   "outputs": [
    {
     "name": "stdout",
     "output_type": "stream",
     "text": [
      "B[0] Memory ref 2178805800960\n",
      "B[1] Memory ref 2178805885248\n",
      "False\n",
      "\n",
      "A[0] Memory ref 2178805074688\n",
      "A[1] Memory ref 2178805074688\n",
      "True\n"
     ]
    }
   ],
   "source": [
    "# list comprehension\n",
    "print(\"B[0] Memory ref {}\".format(id(B[0])))\n",
    "print(\"B[1] Memory ref {}\".format(id(B[1])))\n",
    "print(B[0] is B[1]) # False\n",
    "\n",
    "print()\n",
    "\n",
    "# list replication\n",
    "print(\"A[0] Memory ref {}\".format(id(A[0])))\n",
    "print(\"A[1] Memory ref {}\".format(id(A[1])))\n",
    "print(A[0] is A[1]) # True"
   ]
  }
 ],
 "metadata": {
  "kernelspec": {
   "display_name": "Python 3 (ipykernel)",
   "language": "python",
   "name": "python3"
  },
  "language_info": {
   "codemirror_mode": {
    "name": "ipython",
    "version": 3
   },
   "file_extension": ".py",
   "mimetype": "text/x-python",
   "name": "python",
   "nbconvert_exporter": "python",
   "pygments_lexer": "ipython3",
   "version": "3.13.3"
  }
 },
 "nbformat": 4,
 "nbformat_minor": 5
}
