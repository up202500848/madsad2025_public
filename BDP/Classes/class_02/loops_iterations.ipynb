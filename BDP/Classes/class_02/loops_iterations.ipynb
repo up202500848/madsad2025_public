{
 "cells": [
  {
   "cell_type": "markdown",
   "id": "6f672416",
   "metadata": {},
   "source": [
    "### Indentation\n",
    "\n",
    "In python, blocks of code are defined using indentation"
   ]
  },
  {
   "cell_type": "code",
   "execution_count": 3,
   "id": "6a461ceb",
   "metadata": {},
   "outputs": [
    {
     "name": "stdout",
     "output_type": "stream",
     "text": [
      "---------------------\n",
      "1-a\n",
      "1-b\n",
      "1-c\n",
      "---------------------\n",
      "3-a\n",
      "3-b\n",
      "3-c\n",
      "---------------------\n",
      "5-a\n",
      "5-b\n",
      "5-c\n"
     ]
    }
   ],
   "source": [
    "for i in [1,3,5]:\n",
    "    print(\"---------------------\")\n",
    "    for j in [\"a\",\"b\",\"c\"]:\n",
    "        print(\"{}-{}\".format(i,j))\n"
   ]
  },
  {
   "cell_type": "markdown",
   "id": "9ee2b83a",
   "metadata": {},
   "source": [
    "Iterating a list:"
   ]
  },
  {
   "cell_type": "code",
   "execution_count": 5,
   "id": "6a7877fb",
   "metadata": {},
   "outputs": [
    {
     "name": "stdout",
     "output_type": "stream",
     "text": [
      "9\n"
     ]
    }
   ],
   "source": [
    "s=0\n",
    "for i in [1,5,3]:\n",
    "  s += i\n",
    "print(s)  \n"
   ]
  },
  {
   "cell_type": "markdown",
   "id": "70132d35",
   "metadata": {},
   "source": [
    "Iterating a set. Note the order by which the elements are considered."
   ]
  },
  {
   "cell_type": "code",
   "execution_count": 10,
   "id": "aabd5c94",
   "metadata": {},
   "outputs": [
    {
     "name": "stdout",
     "output_type": "stream",
     "text": [
      "1\n",
      "3\n",
      "5\n",
      "------\n",
      "9\n"
     ]
    }
   ],
   "source": [
    "s=0\n",
    "for i in {1,5,3}:\n",
    "  print(i)\n",
    "  s += i\n",
    "print(\"------\")\n",
    "print(s)  "
   ]
  },
  {
   "cell_type": "markdown",
   "id": "595d1bbd",
   "metadata": {},
   "source": [
    "Iterating a tuple:"
   ]
  },
  {
   "cell_type": "code",
   "execution_count": 7,
   "id": "f904496f",
   "metadata": {},
   "outputs": [
    {
     "name": "stdout",
     "output_type": "stream",
     "text": [
      "9\n"
     ]
    }
   ],
   "source": [
    "s=0\n",
    "for i in (1,5,3):\n",
    "  s += i\n",
    "print(s)  "
   ]
  },
  {
   "cell_type": "markdown",
   "id": "74171c13",
   "metadata": {},
   "source": [
    "Using range() to iterate over a list of indexes."
   ]
  },
  {
   "cell_type": "code",
   "execution_count": 8,
   "id": "3f2511ff",
   "metadata": {},
   "outputs": [
    {
     "name": "stdout",
     "output_type": "stream",
     "text": [
      "5050\n"
     ]
    }
   ],
   "source": [
    "s=0\n",
    "for i in range(1,101):\n",
    "  s+=i\n",
    "print(s)"
   ]
  },
  {
   "cell_type": "code",
   "execution_count": 11,
   "id": "5da54970",
   "metadata": {},
   "outputs": [
    {
     "data": {
      "text/plain": [
       "[1,\n",
       " 2,\n",
       " 3,\n",
       " 4,\n",
       " 5,\n",
       " 6,\n",
       " 7,\n",
       " 8,\n",
       " 9,\n",
       " 10,\n",
       " 11,\n",
       " 12,\n",
       " 13,\n",
       " 14,\n",
       " 15,\n",
       " 16,\n",
       " 17,\n",
       " 18,\n",
       " 19,\n",
       " 20,\n",
       " 21,\n",
       " 22,\n",
       " 23,\n",
       " 24,\n",
       " 25,\n",
       " 26,\n",
       " 27,\n",
       " 28,\n",
       " 29,\n",
       " 30,\n",
       " 31,\n",
       " 32,\n",
       " 33,\n",
       " 34,\n",
       " 35,\n",
       " 36,\n",
       " 37,\n",
       " 38,\n",
       " 39,\n",
       " 40,\n",
       " 41,\n",
       " 42,\n",
       " 43,\n",
       " 44,\n",
       " 45,\n",
       " 46,\n",
       " 47,\n",
       " 48,\n",
       " 49,\n",
       " 50,\n",
       " 51,\n",
       " 52,\n",
       " 53,\n",
       " 54,\n",
       " 55,\n",
       " 56,\n",
       " 57,\n",
       " 58,\n",
       " 59,\n",
       " 60,\n",
       " 61,\n",
       " 62,\n",
       " 63,\n",
       " 64,\n",
       " 65,\n",
       " 66,\n",
       " 67,\n",
       " 68,\n",
       " 69,\n",
       " 70,\n",
       " 71,\n",
       " 72,\n",
       " 73,\n",
       " 74,\n",
       " 75,\n",
       " 76,\n",
       " 77,\n",
       " 78,\n",
       " 79,\n",
       " 80,\n",
       " 81,\n",
       " 82,\n",
       " 83,\n",
       " 84,\n",
       " 85,\n",
       " 86,\n",
       " 87,\n",
       " 88,\n",
       " 89,\n",
       " 90,\n",
       " 91,\n",
       " 92,\n",
       " 93,\n",
       " 94,\n",
       " 95,\n",
       " 96,\n",
       " 97,\n",
       " 98,\n",
       " 99,\n",
       " 100]"
      ]
     },
     "execution_count": 11,
     "metadata": {},
     "output_type": "execute_result"
    }
   ],
   "source": [
    "a = range(1,101)\n",
    "l=[]\n",
    "for i in a:\n",
    "  l.append(i)\n",
    "l"
   ]
  },
  {
   "cell_type": "markdown",
   "id": "6730c58f",
   "metadata": {},
   "source": [
    "## Iterators\n",
    "\n",
    "All collection type objects are iterable"
   ]
  },
  {
   "cell_type": "markdown",
   "id": "99a8a558",
   "metadata": {},
   "source": [
    "#### Set"
   ]
  },
  {
   "cell_type": "code",
   "execution_count": 4,
   "id": "ba459f8d",
   "metadata": {},
   "outputs": [
    {
     "name": "stdout",
     "output_type": "stream",
     "text": [
      "1\n",
      "2\n",
      "3\n",
      "4\n",
      "5\n",
      "6\n",
      "7\n",
      "8\n",
      "9\n",
      "10\n",
      "End of set reached\n"
     ]
    }
   ],
   "source": [
    "s={6,6,6,6,6,6,10,5,4,1,7,2,3,9,8}\n",
    "it=s.__iter__()\n",
    "\n",
    "try:\n",
    "  while(True):\n",
    "    print(it.__next__())\n",
    "except:\n",
    "  print(\"End of set reached\")"
   ]
  },
  {
   "cell_type": "markdown",
   "id": "d91654b8",
   "metadata": {},
   "source": [
    "#### List"
   ]
  },
  {
   "cell_type": "code",
   "execution_count": 5,
   "id": "24430973",
   "metadata": {},
   "outputs": [
    {
     "name": "stdout",
     "output_type": "stream",
     "text": [
      "6\n",
      "6\n",
      "6\n",
      "6\n",
      "6\n",
      "6\n",
      "10\n",
      "5\n",
      "4\n",
      "1\n",
      "7\n",
      "2\n",
      "3\n",
      "9\n",
      "8\n",
      "End of set reached\n"
     ]
    }
   ],
   "source": [
    "l=[6,6,6,6,6,6,10,5,4,1,7,2,3,9,8]\n",
    "it=l.__iter__()\n",
    "\n",
    "try:\n",
    "  while(True):\n",
    "    print(it.__next__())\n",
    "except:\n",
    "  print(\"End of set reached\")"
   ]
  },
  {
   "cell_type": "markdown",
   "id": "0b73198d",
   "metadata": {},
   "source": [
    "#### Tuple"
   ]
  },
  {
   "cell_type": "code",
   "execution_count": 6,
   "id": "190d1b01",
   "metadata": {},
   "outputs": [
    {
     "name": "stdout",
     "output_type": "stream",
     "text": [
      "6\n",
      "6\n",
      "6\n",
      "6\n",
      "6\n",
      "6\n",
      "10\n",
      "5\n",
      "4\n",
      "1\n",
      "7\n",
      "2\n",
      "3\n",
      "9\n",
      "8\n",
      "End of set reached\n"
     ]
    }
   ],
   "source": [
    "t=(6,6,6,6,6,6,10,5,4,1,7,2,3,9,8)\n",
    "it=t.__iter__()\n",
    "\n",
    "try:\n",
    "  while(True):\n",
    "    print(it.__next__())\n",
    "except:\n",
    "  print(\"End of set reached\")"
   ]
  },
  {
   "cell_type": "markdown",
   "id": "a572f280",
   "metadata": {},
   "source": [
    "#### Diccionary"
   ]
  },
  {
   "cell_type": "code",
   "execution_count": null,
   "id": "61da95f0",
   "metadata": {},
   "outputs": [
    {
     "name": "stdout",
     "output_type": "stream",
     "text": [
      "A\n",
      "B\n",
      "C\n",
      "D\n",
      "E\n",
      "F\n",
      "G\n",
      "H\n",
      "I\n",
      "J\n",
      "K\n",
      "L\n",
      "M\n",
      "N\n",
      "O\n",
      "End of set reached\n"
     ]
    }
   ],
   "source": [
    "d={\"A\":6,\"B\":6,\"C\":6,\"D\":6,\"E\":6,\"F\":6,\"G\":10,\"H\":5,\"I\":4,\"J\":1,\"K\":7,\"L\":2,\"M\":3,\"N\":9,\"O\":8}\n",
    "it=d.__iter__()\n",
    "\n",
    "try:\n",
    "  while(True):\n",
    "    print(it.__next__())\n",
    "except:\n",
    "  print(\"End of set reached\")"
   ]
  },
  {
   "cell_type": "markdown",
   "id": "840a644e",
   "metadata": {},
   "source": [
    "### List of squares"
   ]
  },
  {
   "cell_type": "code",
   "execution_count": 9,
   "id": "f70f9d8a",
   "metadata": {},
   "outputs": [
    {
     "data": {
      "text/plain": [
       "[1,\n",
       " 4,\n",
       " 9,\n",
       " 16,\n",
       " 25,\n",
       " 36,\n",
       " 49,\n",
       " 64,\n",
       " 81,\n",
       " 100,\n",
       " 121,\n",
       " 144,\n",
       " 169,\n",
       " 196,\n",
       " 225,\n",
       " 256,\n",
       " 289,\n",
       " 324,\n",
       " 361,\n",
       " 400,\n",
       " 441,\n",
       " 484,\n",
       " 529,\n",
       " 576,\n",
       " 625,\n",
       " 676,\n",
       " 729,\n",
       " 784,\n",
       " 841,\n",
       " 900,\n",
       " 961,\n",
       " 1024,\n",
       " 1089,\n",
       " 1156,\n",
       " 1225,\n",
       " 1296,\n",
       " 1369,\n",
       " 1444,\n",
       " 1521,\n",
       " 1600,\n",
       " 1681,\n",
       " 1764,\n",
       " 1849,\n",
       " 1936,\n",
       " 2025,\n",
       " 2116,\n",
       " 2209,\n",
       " 2304,\n",
       " 2401,\n",
       " 2500,\n",
       " 2601,\n",
       " 2704,\n",
       " 2809,\n",
       " 2916,\n",
       " 3025,\n",
       " 3136,\n",
       " 3249,\n",
       " 3364,\n",
       " 3481,\n",
       " 3600,\n",
       " 3721,\n",
       " 3844,\n",
       " 3969,\n",
       " 4096,\n",
       " 4225,\n",
       " 4356,\n",
       " 4489,\n",
       " 4624,\n",
       " 4761,\n",
       " 4900,\n",
       " 5041,\n",
       " 5184,\n",
       " 5329,\n",
       " 5476,\n",
       " 5625,\n",
       " 5776,\n",
       " 5929,\n",
       " 6084,\n",
       " 6241,\n",
       " 6400,\n",
       " 6561,\n",
       " 6724,\n",
       " 6889,\n",
       " 7056,\n",
       " 7225,\n",
       " 7396,\n",
       " 7569,\n",
       " 7744,\n",
       " 7921,\n",
       " 8100,\n",
       " 8281,\n",
       " 8464,\n",
       " 8649,\n",
       " 8836,\n",
       " 9025,\n",
       " 9216,\n",
       " 9409,\n",
       " 9604,\n",
       " 9801,\n",
       " 10000]"
      ]
     },
     "execution_count": 9,
     "metadata": {},
     "output_type": "execute_result"
    }
   ],
   "source": [
    "l=[]\n",
    "for i in range(1,101):\n",
    "  l.append(i**2)\n",
    "l"
   ]
  }
 ],
 "metadata": {
  "kernelspec": {
   "display_name": "Python 3 (ipykernel)",
   "language": "python",
   "name": "python3"
  },
  "language_info": {
   "codemirror_mode": {
    "name": "ipython",
    "version": 3
   },
   "file_extension": ".py",
   "mimetype": "text/x-python",
   "name": "python",
   "nbconvert_exporter": "python",
   "pygments_lexer": "ipython3",
   "version": "3.13.3"
  }
 },
 "nbformat": 4,
 "nbformat_minor": 5
}
