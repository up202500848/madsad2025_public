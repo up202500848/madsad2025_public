{
 "cells": [
  {
   "cell_type": "code",
   "execution_count": null,
   "id": "8fabee65",
   "metadata": {},
   "outputs": [],
   "source": [
    "def min2(Q, V):\n",
    "  # returns the index of the party with max quocient of if more than one (when there's a tie)\n",
    "  # the index of the one with lesser votes\n",
    "  return V.index(min([V[j] for j in [i for i in range(len(Q)) if Q[i]==max(Q)]]))\n",
    "\n",
    "\n",
    "def hondt(V, n):\n",
    "  Q=[i for i in V]\n",
    "  S=[0]*len(V)\n",
    "  for i in range(n):\n",
    "    #p=Q.index(max(Q))\n",
    "    p=min2(Q, V)\n",
    "    S[p]=S[p]+1\n",
    "    Q[p]=V[p]/(S[p]+1)\n",
    "  return S\n",
    "\n",
    "\n"
   ]
  },
  {
   "cell_type": "code",
   "execution_count": 19,
   "id": "49f58e03",
   "metadata": {},
   "outputs": [
    {
     "data": {
      "text/plain": [
       "[4, 1, 3, 1]"
      ]
     },
     "execution_count": 19,
     "metadata": {},
     "output_type": "execute_result"
    }
   ],
   "source": [
    "hondt([100000,20000,80000,30000],9)"
   ]
  }
 ],
 "metadata": {
  "kernelspec": {
   "display_name": "Python 3 (ipykernel)",
   "language": "python",
   "name": "python3"
  },
  "language_info": {
   "codemirror_mode": {
    "name": "ipython",
    "version": 3
   },
   "file_extension": ".py",
   "mimetype": "text/x-python",
   "name": "python",
   "nbconvert_exporter": "python",
   "pygments_lexer": "ipython3",
   "version": "3.13.3"
  }
 },
 "nbformat": 4,
 "nbformat_minor": 5
}
