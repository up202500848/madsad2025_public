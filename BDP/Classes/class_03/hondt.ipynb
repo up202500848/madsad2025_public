{
 "cells": [
  {
   "cell_type": "markdown",
   "id": "a816ad62",
   "metadata": {},
   "source": [
    "# Hondt"
   ]
  },
  {
   "cell_type": "markdown",
   "id": "be1795dc",
   "metadata": {},
   "source": [
    "#### def min2(Quocients, Votes)\n",
    "\n",
    "Returns the index of the ONE party with max quocient or if more than one (when there's a tie) the index of the party with lesser votes."
   ]
  },
  {
   "cell_type": "code",
   "execution_count": 38,
   "id": "f9602096",
   "metadata": {},
   "outputs": [
    {
     "ename": "",
     "evalue": "",
     "output_type": "error",
     "traceback": [
      "\u001b[1;31mFailed to connect to the remote Jupyter Server 'http://localhost:8888/'. Verify the server is running and reachable. (Failed to connect to the remote Jupyter Server 'http://localhost:8888/'. Verify the server is running and reachable. (Forbidden).)."
     ]
    }
   ],
   "source": [
    "def max2(Q, V):\n",
    "    return V.index(min([V[j] for j in [i for i in range(len(Q)) if Q[i]==max(Q)]]))"
   ]
  },
  {
   "cell_type": "markdown",
   "id": "177eb372",
   "metadata": {},
   "source": [
    "#### def hondt(Votes, Number of Seats)\n",
    "\n",
    "Applies D'Hondt method to seats distribution from number of votes"
   ]
  },
  {
   "cell_type": "code",
   "execution_count": 35,
   "id": "8fabee65",
   "metadata": {},
   "outputs": [
    {
     "ename": "",
     "evalue": "",
     "output_type": "error",
     "traceback": [
      "\u001b[1;31mFailed to connect to the remote Jupyter Server 'http://localhost:8888/'. Verify the server is running and reachable. (Failed to connect to the remote Jupyter Server 'http://localhost:8888/'. Verify the server is running and reachable. (Forbidden).)."
     ]
    }
   ],
   "source": [
    "def hondt(V, n):\n",
    "  Q=[i for i in V]\n",
    "  S=[0]*len(V)\n",
    "  for i in range(n):\n",
    "    p=max2(Q, V)\n",
    "    S[p]=S[p]+1\n",
    "    Q[p]=V[p]/(S[p]+1)\n",
    "  return S\n",
    "\n",
    "\n"
   ]
  },
  {
   "cell_type": "code",
   "execution_count": null,
   "id": "49f58e03",
   "metadata": {},
   "outputs": [
    {
     "data": {
      "text/plain": [
       "[4, 1, 3, 1]"
      ]
     },
     "execution_count": 20,
     "metadata": {},
     "output_type": "execute_result"
    }
   ],
   "source": [
    "hondt([100000,80000,20000,30000],9)"
   ]
  },
  {
   "cell_type": "markdown",
   "id": "3fbeacb2",
   "metadata": {},
   "source": [
    "#### Test cases\n",
    "\n",
    "I asked Copilot for test cases, the ones bellow, but the expected_allocation for the \"tied case\", as it seams, is giving the seat to the most voted party not the lesser.\n",
    "\n",
    "Some tests fail.\n",
    "\n",
    "If I change the max2 function to that case, \n",
    "\n",
    "``` python\n",
    "  def max2(Q, V):\n",
    "      return V.index(max([V[j] for j in [i for i in range(len(Q)) if Q[i]==max(Q)]]))\n",
    "```\n",
    "\n",
    "all tests pass."
   ]
  },
  {
   "cell_type": "code",
   "execution_count": null,
   "id": "38898549",
   "metadata": {},
   "outputs": [],
   "source": [
    "test = [\n",
    "  {\n",
    "    \"votes\": [\n",
    "      1000\n",
    "    ],\n",
    "    \"seats\": 6,\n",
    "    \"expected_allocation\": [\n",
    "      6\n",
    "    ]\n",
    "  },\n",
    "  {\n",
    "    \"votes\": [\n",
    "      1000,\n",
    "      2000\n",
    "    ],\n",
    "    \"seats\": 7,\n",
    "    \"expected_allocation\": [\n",
    "      2,\n",
    "      5\n",
    "    ]\n",
    "  },\n",
    "  {\n",
    "    \"votes\": [\n",
    "      1000,\n",
    "      2000,\n",
    "      3000\n",
    "    ],\n",
    "    \"seats\": 8,\n",
    "    \"expected_allocation\": [\n",
    "      1,\n",
    "      3,\n",
    "      4\n",
    "    ]\n",
    "  },\n",
    "  {\n",
    "    \"votes\": [\n",
    "      1000,      2000,\n",
    "      3000,\n",
    "      4000\n",
    "    ],\n",
    "    \"seats\": 9,\n",
    "    \"expected_allocation\": [\n",
    "      0,\n",
    "      2,\n",
    "      3,\n",
    "      4\n",
    "    ]\n",
    "  },\n",
    "  {\n",
    "    \"votes\": [\n",
    "      1000,\n",
    "      2000,\n",
    "      3000,\n",
    "      4000,\n",
    "      5000\n",
    "    ],\n",
    "    \"seats\": 10,\n",
    "    \"expected_allocation\": [\n",
    "      0,\n",
    "      1,\n",
    "      2,\n",
    "      3,\n",
    "      4\n",
    "    ]\n",
    "  },\n",
    "  {\n",
    "    \"votes\": [\n",
    "      1000,\n",
    "      2000,\n",
    "      3000,\n",
    "      4000,\n",
    "      5000,\n",
    "      6000\n",
    "    ],\n",
    "    \"seats\": 11,\n",
    "    \"expected_allocation\": [\n",
    "      0,\n",
    "      1,\n",
    "      1,\n",
    "      2,\n",
    "      3,\n",
    "      4\n",
    "    ]\n",
    "  },\n",
    "  {\n",
    "    \"votes\": [\n",
    "      1000,\n",
    "      2000,\n",
    "      3000,\n",
    "      4000,\n",
    "      5000,\n",
    "      6000,\n",
    "      7000\n",
    "    ],\n",
    "    \"seats\": 12,\n",
    "    \"expected_allocation\": [\n",
    "      0,\n",
    "      1,\n",
    "      1,\n",
    "      2,\n",
    "      2,\n",
    "      3,\n",
    "      3\n",
    "    ]\n",
    "  },\n",
    "  {\n",
    "    \"votes\": [\n",
    "      1000,\n",
    "      2000,\n",
    "      3000,\n",
    "      4000,\n",
    "      5000,\n",
    "      6000,\n",
    "      7000,\n",
    "      8000\n",
    "    ],\n",
    "    \"seats\": 13,\n",
    "    \"expected_allocation\": [\n",
    "      0,\n",
    "      0,\n",
    "      1,\n",
    "      1,\n",
    "      2,\n",
    "      2,\n",
    "      3,\n",
    "      4\n",
    "    ]\n",
    "  },\n",
    "  {\n",
    "    \"votes\": [ 1000, 2000, 3000, 4000, 5000, 6000, 7000, 8000, 9000\n",
    "    ],\n",
    "    \"seats\": 14,\n",
    "    \"expected_allocation\": [\n",
    "      0,      0,      1,      1,      2,      2, 2, 3, 3\n",
    "    ]\n",
    "  },\n",
    "  {\n",
    "    \"votes\": [\n",
    "      1000,\n",
    "      2000,\n",
    "      3000,\n",
    "      4000,\n",
    "      5000,\n",
    "      6000,\n",
    "      7000,\n",
    "      8000,\n",
    "      9000,\n",
    "      10000\n",
    "    ],\n",
    "    \"seats\": 15,\n",
    "    \"expected_allocation\": [\n",
    "      0,\n",
    "      0,\n",
    "      1,\n",
    "      1,\n",
    "      1,\n",
    "      2,\n",
    "      2,\n",
    "      2,\n",
    "      3,\n",
    "      3\n",
    "    ]\n",
    "  }\n",
    "]"
   ]
  },
  {
   "cell_type": "code",
   "execution_count": 41,
   "id": "1884cf64",
   "metadata": {},
   "outputs": [
    {
     "name": "stdout",
     "output_type": "stream",
     "text": [
      "Distribution: [1, 2, 3, 3]\n",
      "    Expected: [0, 2, 3, 4]\n",
      "\n",
      "\n",
      "Distribution: [0, 1, 2, 2, 3, 3]\n",
      "    Expected: [0, 1, 1, 2, 3, 4]\n",
      "\n",
      "\n",
      "Distribution: [0, 1, 1, 1, 2, 2, 3, 3]\n",
      "    Expected: [0, 0, 1, 1, 2, 2, 3, 4]\n",
      "\n",
      "\n"
     ]
    }
   ],
   "source": [
    "for t in test:\n",
    "  my_result = hondt(t['votes'], t['seats'])\n",
    "  if(my_result != t['expected_allocation']):\n",
    "    print(\"Distribution: {}\\n    Expected: {}\\n\\n\".format(my_result, t['expected_allocation']))"
   ]
  }
 ],
 "metadata": {
  "kernelspec": {
   "display_name": "Python 3 (ipykernel)",
   "language": "python",
   "name": "python3"
  }
 },
 "nbformat": 4,
 "nbformat_minor": 5
}
