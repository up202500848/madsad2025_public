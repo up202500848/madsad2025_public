{
 "cells": [
  {
   "cell_type": "code",
   "execution_count": 285,
   "id": "d9f08778",
   "metadata": {},
   "outputs": [],
   "source": [
    "def myF(c):\n",
    "    v=ord(c)\n",
    "    u=v%10\n",
    "    t=(v//10)%10\n",
    "    h=(v//100)%10\n",
    "    return (h,t,u)\n"
   ]
  },
  {
   "cell_type": "code",
   "execution_count": 286,
   "id": "0a1b0957",
   "metadata": {},
   "outputs": [
    {
     "data": {
      "text/plain": [
       "(0, 6, 5)"
      ]
     },
     "execution_count": 286,
     "metadata": {},
     "output_type": "execute_result"
    }
   ],
   "source": [
    "myF('A')"
   ]
  },
  {
   "cell_type": "code",
   "execution_count": 283,
   "id": "6ef83db4",
   "metadata": {},
   "outputs": [],
   "source": [
    "def myT(s):\n",
    "    v=myF(s)\n",
    "    return \"\".join([chr(ord(\"A\")+i) for i in v])\n"
   ]
  },
  {
   "cell_type": "code",
   "execution_count": 289,
   "id": "59614e17",
   "metadata": {},
   "outputs": [
    {
     "data": {
      "text/plain": [
       "'AGF'"
      ]
     },
     "execution_count": 289,
     "metadata": {},
     "output_type": "execute_result"
    }
   ],
   "source": [
    "myT(\"A\")"
   ]
  },
  {
   "cell_type": "code",
   "execution_count": 284,
   "id": "0cc7ae10",
   "metadata": {},
   "outputs": [],
   "source": [
    "def myTs(t):\n",
    "    return \"\".join([myT(s) for s in t])\n"
   ]
  },
  {
   "cell_type": "code",
   "execution_count": 290,
   "id": "dd73ced7",
   "metadata": {},
   "outputs": [],
   "source": [
    "txt=\"ADFADCAIEBAEBABADCBACBBHBBAAJJBBGBAFBBBBBAADCAIDBBHBAJAHABBEAJHAJJAEABCAAEEBCBAEBADCBBFBAEBBBBBHBAIBAAADCAJJBBBBAJBBCBBHBBGBABADCBBGBAEBABADCBBFBBHBAJADCBBBBACADCBACBBEAJHAJJBBGBAFBBBBBABBFABAADFADCBBJBAEBABBBEBABADCBAABABADCBBABBHBAJBABBBEAJHBBGBBBBBEBBFADCAJHBBEBABADCBBFBBGBBBBBEBABBAAADCBAFBBAADCAJHADCBAIBAFBBFBBGADCBCAABAADFADCAJHBBABAAADCBBGBAEBABADCBAABABBBABBBBAJBAFBBAAJHBBGBBBBBEBBFADCAJHBBEBABADCBBFBBGBBBBBEBABADCBAFBBAADCAJHADCBAIBAFBBFBBGADCBCBABAADFADCAJIBBBBBGBAEADCBCAADCAJHBBABAAADCBCBADCAJHBBEBABADCBADBAFBBIBABBBAADCAJHBBFADCBBCAJHBBEAJHBAJBABBBGBABBBEBBFABAADFADCBBGBAEBABADCBBEBABBBFBBHBAIBBGADCBBFBBHBAJADCBBFBAEBBBBBHBAIBAAADCAJIBABADCBBEBABBBGBBHBBEBBABABBAAADCAJHBBFADCAJHADCBAIBAFBBFBBGADCBBBBACADCAFAADCBAFBBABBGBABBADBABBBEBBFADCAJHADCAJHBBABAAADCAJIABAADFADCAIEBAEBABADCAJJBBBBAJBBCBBHBBGAJHBBGBAFBBBBBABBFADCBBFBAEBBBBBHBAIBAAADCAJIBABADCBAJAJHBAABABADCBAFBBAADCAJHADCBBJAJHBCBADCBBGBAEAJHBBGADCAJHADCAJHBBABAAADCAJIADCAJHBBEBABADCAJJBBBAEFBBCBBEBAFBAJBABABAADFADCBBFBBBADCBADAJJBAAADCBBFBAEBBBBBHBAIBAAADCAJIBABADCBBHBBFBABBAAABAABABAABABBACADCBADAJJBAAAEAAJHAEEAJIAEBAFIABAADCADCADCADCBBIAEJAGBAJHABAADCADCADCADCBBIAFAAGBAJIABAADCADCADCADCBBJBAEBAFBAIBABADCBBIAFAADDAGBAEIAFIABAADCADCADCADCADCADCADCADCBBIAEJAEEADCBBIAFAADCAGBADCBBIAFAAEEADCBBIAEJADHBBIAFAABAADCADCADCADCBBEBABBBGBBHBBEBBAADCBBIAEJABAABABAABABBACADCAIDBBHBAJAHABBEAJHAJJAEABCAAEEBCBAEBAFIABAADCADCADCADCADFABAADCADCADCADCADFADCBACBAFBAIBAIADCBBGBAEBABADCBACBBHBBAAJJBBGBAFBBBBBAADCAJJBBBBAABABABA\""
   ]
  },
  {
   "cell_type": "code",
   "execution_count": 293,
   "id": "35ef233d",
   "metadata": {},
   "outputs": [
    {
     "data": {
      "text/plain": [
       "'# The function SumFrac(x,y) should compute the sum of fractions\\n# where de numerators are stored in a list x\\n# and the denominators are store in a list y\\n# both x and y are given as parameters\\n# the result sum should be returned as a list of 2 integers a and b\\n# The computations should be made in a way that a and b are co-prime\\n# so gcd should be used\\n\\ndef gcd(a,b):\\n    v1=a\\n    v2=b\\n    while v2!=0:\\n        v1, v2 = v2, v1%v2\\n    return v1\\n\\ndef SumFrac(x,y):\\n    #\\n    # fill the function code\\n'"
      ]
     },
     "execution_count": 293,
     "metadata": {},
     "output_type": "execute_result"
    }
   ],
   "source": [
    "X=[]\n",
    "for i in range(0,len(txt),3):\n",
    "  cem = ord(txt[i])-ord(\"A\")\n",
    "  dez = ord(txt[i+1])-ord(\"A\")\n",
    "  um = ord(txt[i+2])-ord(\"A\")\n",
    "  X.append(chr(cem*100+dez*10+um))\n",
    "\"\".join(X)"
   ]
  }
 ],
 "metadata": {
  "kernelspec": {
   "display_name": "Python 3 (ipykernel)",
   "language": "python",
   "name": "python3"
  },
  "language_info": {
   "codemirror_mode": {
    "name": "ipython",
    "version": 3
   },
   "file_extension": ".py",
   "mimetype": "text/x-python",
   "name": "python",
   "nbconvert_exporter": "python",
   "pygments_lexer": "ipython3",
   "version": "3.13.3"
  }
 },
 "nbformat": 4,
 "nbformat_minor": 5
}
