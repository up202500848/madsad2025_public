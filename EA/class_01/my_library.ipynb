{
 "cells": [
  {
   "cell_type": "markdown",
   "id": "6f3cf463",
   "metadata": {},
   "source": [
    "## Mean\n",
    "\n",
    "$$\n",
    "\\bar{x} = \\frac{1}{n}\\sum_{i=1}^{n} x_i\n",
    "$$\n"
   ]
  },
  {
   "cell_type": "code",
   "execution_count": 3,
   "id": "76dfcfed",
   "metadata": {
    "vscode": {
     "languageId": "r"
    }
   },
   "outputs": [],
   "source": [
    "#' Calculate the mean of a distribution\n",
    "#'\n",
    "#' @param x A numeric vector os numbers\n",
    "#' @return The mean\n",
    "mean_ <- function(x) {\n",
    "  sum(x) / length(x)\n",
    "}\n",
    "\n"
   ]
  },
  {
   "cell_type": "markdown",
   "id": "89fb5905",
   "metadata": {},
   "source": [
    "## Mode\n",
    "\n",
    "The most frequent value in a distribution its called, the mode. R doesn't have any buil-in function for this statistic.\n",
    "\n",
    "$$\n",
    "x^∗ = \\text{arg }\\text{max }_{x_i} f(x_i)\n",
    "$$\n"
   ]
  },
  {
   "cell_type": "code",
   "execution_count": 4,
   "id": "a989980f",
   "metadata": {
    "vscode": {
     "languageId": "r"
    }
   },
   "outputs": [],
   "source": [
    "# pure algorithmic; just basic structures and constructions\n",
    "# bellow a more concise version but using some more complex constructs\n",
    "mode_ <- function(x) {\n",
    "  s <- sort(x)\n",
    "  previous_value <- NA\n",
    "  k <- 0\n",
    "  most_frequent_value <- NA\n",
    "  most_frequent_value_count <- 0\n",
    "\n",
    "  for (v in s) {\n",
    "    if (is.na(previous_value)) {\n",
    "      previous_value <- v\n",
    "      k <- 1\n",
    "    } else {\n",
    "      if (v == previous_value) {\n",
    "        k <- k + 1\n",
    "      } else {\n",
    "        if (k > most_frequent_value_count) {\n",
    "          most_frequent_value_count <- k\n",
    "          most_frequent_value <- previous_value\n",
    "          previous_value <- v\n",
    "          k <- 1\n",
    "        } else {\n",
    "          previous_value <- v\n",
    "          k <- 1\n",
    "        }\n",
    "      }\n",
    "    }\n",
    "  }\n",
    "  if (k > most_frequent_value_count) {\n",
    "    most_frequent_value_count <- k\n",
    "    most_frequent_value <- v\n",
    "  }\n",
    "  most_frequent_value\n",
    "}\n",
    "\n",
    "mode2_ <- function(x) {\n",
    "  unique_values <- unique(x)\n",
    "  unique_values[which.max(tabulate(match(x, unique_values)))]\n",
    "}\n"
   ]
  },
  {
   "cell_type": "markdown",
   "id": "60aaffe4",
   "metadata": {
    "vscode": {
     "languageId": "r"
    }
   },
   "source": [
    "## Quartile"
   ]
  },
  {
   "cell_type": "code",
   "execution_count": 5,
   "id": "23b1ff57",
   "metadata": {
    "vscode": {
     "languageId": "r"
    }
   },
   "outputs": [],
   "source": [
    "#' Calculate some quartile of a distribution\n",
    "#'\n",
    "#' @param x A numeric vector os numbers\n",
    "#' @param p The quartile {1, 2, 3}\n",
    "#' @return The quartile\n",
    "quartile_ <- function(x, q) {\n",
    "  y <- sort(x)\n",
    "  n <- length(x)\n",
    "  p <- q * (n + 1) / 4\n",
    "  if (!is.integer(p)) {\n",
    "    i <- floor(p)\n",
    "    i1 <- y[i]\n",
    "    i2 <- y[i + 1]\n",
    "    i1 + (i2 - i1) * (p - as.integer(p))\n",
    "  } else {\n",
    "    y[p]\n",
    "  }\n",
    "}"
   ]
  },
  {
   "cell_type": "markdown",
   "id": "f531d650",
   "metadata": {},
   "source": [
    "## Percentile\n",
    "\n",
    "Given an ordered set\n",
    "\n",
    "$$\n",
    "X=\\{x_1, x_2, ... , x_n\\}\n",
    "$$\n",
    "\n",
    "such that:\n",
    "$$\n",
    "x_1 \\leq x_2 \\leq ... \\leq x_n\n",
    "$$\n",
    "\n",
    "the percentile $$0\\leq p \\leq 1$$ is the value $$x_p$$ such that $$ "
   ]
  },
  {
   "cell_type": "code",
   "execution_count": 6,
   "id": "479824f1",
   "metadata": {
    "vscode": {
     "languageId": "r"
    }
   },
   "outputs": [],
   "source": [
    "#' Calculate some percentile of a distribution\n",
    "#'\n",
    "#' @param x A numeric vector os numbers\n",
    "#' @param p The percentile [0, 1]\n",
    "#' @return The mean\n",
    "percentile_ <- function(x, p) {\n",
    "  y <- sort(x)\n",
    "  n <- length(y)\n",
    "  p <- p * (n + 1)\n",
    "  if (!is.integer(p)) {\n",
    "    i <- floor(p)\n",
    "    i1 <- y[i]\n",
    "    i2 <- y[i + 1]\n",
    "    i1 + (i2 - i1) * (p - as.integer(p))\n",
    "  } else {\n",
    "    y[p]\n",
    "  }\n",
    "}"
   ]
  },
  {
   "cell_type": "code",
   "execution_count": 7,
   "id": "61ccbc93",
   "metadata": {
    "vscode": {
     "languageId": "r"
    }
   },
   "outputs": [
    {
     "name": "stdout",
     "output_type": "stream",
     "text": [
      "[1] \"..............................\"\n"
     ]
    },
    {
     "name": "stdout",
     "output_type": "stream",
     "text": [
      "[1] \"Mean\"\n",
      "[1] 5.39\n",
      "[1] 5.39\n",
      "[1] \"..............................\"\n",
      "[1] \"1st Qu.\"\n",
      "[1] 3\n",
      "25% \n",
      "  3 \n",
      "[1] \"..............................\"\n",
      "[1] \"2nd Qu.\"\n",
      "[1] 5.5\n",
      "50% \n",
      "5.5 \n",
      "[1] \"..............................\"\n",
      "[1] \"3rd Qu.\"\n",
      "[1] 8\n",
      "75% \n",
      "  8 \n",
      "[1] \"..............................\"\n",
      "[1] \"Percentile 5\"\n",
      "[1] 1\n",
      "5% \n",
      " 1 \n",
      "[1] \"..............................\"\n",
      "[1] \"Percentile 45\"\n",
      "[1] 5\n",
      "45% \n",
      "  5 \n",
      "[1] \"..............................\"\n",
      "[1] \"Percentile 78\"\n",
      "[1] 8\n",
      "78% \n",
      "  8 \n"
     ]
    }
   ],
   "source": [
    "x <- sample(10, 100, TRUE)  # Example data\n",
    "print(\"..............................\")\n",
    "print(\"Mean\")\n",
    "print(mean_(x))\n",
    "print(mean(x))\n",
    "\n",
    "print(\"..............................\")\n",
    "print(\"1st Qu.\")\n",
    "print(quartile_(x, 1))\n",
    "print(quantile(x, probs = 0.25, type = 6))\n",
    "\n",
    "print(\"..............................\")\n",
    "print(\"2nd Qu.\")\n",
    "print(quartile_(x, 2))\n",
    "print(quantile(x, probs = 0.50, type = 6))\n",
    "\n",
    "print(\"..............................\")\n",
    "print(\"3rd Qu.\")\n",
    "print(quartile_(x, 3))\n",
    "print(quantile(x, probs = 0.75, type = 6))\n",
    "\n",
    "print(\"..............................\")\n",
    "print(\"Percentile 5\")\n",
    "print(percentile_(x, 0.05))\n",
    "print(quantile(x, probs = 0.05, type = 6))\n",
    "\n",
    "print(\"..............................\")\n",
    "print(\"Percentile 45\")\n",
    "print(percentile_(x, 0.45))\n",
    "print(quantile(x, probs = 0.45, type = 6))\n",
    "\n",
    "print(\"..............................\")\n",
    "print(\"Percentile 78\")\n",
    "print(percentile_(x, 0.78))\n",
    "print(quantile(x, probs = 0.78, type = 6))\n"
   ]
  },
  {
   "cell_type": "code",
   "execution_count": 14,
   "id": "057c0656",
   "metadata": {
    "vscode": {
     "languageId": "r"
    }
   },
   "outputs": [
    {
     "data": {
      "text/html": [
       "4"
      ],
      "text/latex": [
       "4"
      ],
      "text/markdown": [
       "4"
      ],
      "text/plain": [
       "[1] 4"
      ]
     },
     "metadata": {},
     "output_type": "display_data"
    }
   ],
   "source": [
    "l <- c(1, 3, 2, 4, 5, 4, 3, 2, 4, 3, 4, 6, 7, 4, 5, 4, 4, 4, 1, 10)\n",
    "percentile_(L, 0.5)"
   ]
  }
 ],
 "metadata": {
  "kernelspec": {
   "display_name": "R",
   "language": "R",
   "name": "ir"
  },
  "language_info": {
   "codemirror_mode": "r",
   "file_extension": ".r",
   "mimetype": "text/x-r-source",
   "name": "R",
   "pygments_lexer": "r",
   "version": "4.5.1"
  }
 },
 "nbformat": 4,
 "nbformat_minor": 5
}
