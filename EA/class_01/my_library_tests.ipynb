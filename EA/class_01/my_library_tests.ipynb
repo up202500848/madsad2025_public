{
 "cells": [
  {
   "cell_type": "markdown",
   "id": "8e3c6439",
   "metadata": {},
   "source": [
    "# Localization"
   ]
  },
  {
   "cell_type": "code",
   "execution_count": 3,
   "id": "66feac8a",
   "metadata": {
    "vscode": {
     "languageId": "r"
    }
   },
   "outputs": [
    {
     "name": "stderr",
     "output_type": "stream",
     "text": [
      "Warning message in file(filename, \"r\", encoding = encoding):\n",
      "\"cannot open file './my_library.R': No such file or directory\"\n"
     ]
    },
    {
     "ename": "ERROR",
     "evalue": "Error in file(filename, \"r\", encoding = encoding): cannot open the connection\n",
     "output_type": "error",
     "traceback": [
      "Error in file(filename, \"r\", encoding = encoding): cannot open the connection\nTraceback:\n",
      "1. file(filename, \"r\", encoding = encoding)",
      "2. .handleSimpleError(function (cnd) \n . {\n .     watcher$capture_plot_and_output()\n .     cnd <- sanitize_call(cnd)\n .     watcher$push(cnd)\n .     switch(on_error, continue = invokeRestart(\"eval_continue\"), \n .         stop = invokeRestart(\"eval_stop\"), error = NULL)\n . }, \"cannot open the connection\", base::quote(file(filename, \"r\", \n .     encoding = encoding)))"
     ]
    }
   ],
   "source": [
    "source(\"./my_library.R\")\n",
    "\n",
    "x <- sample(10, 100, TRUE)  # Example data\n",
    "print(\"..............................\")\n",
    "print(\"Mean\")\n",
    "print(mean_(x))\n",
    "print(mean(x))\n",
    "\n",
    "print(\"..............................\")\n",
    "print(\"1st Qu.\")\n",
    "print(quartile_(x, 1))\n",
    "print(quantile(x, probs = 0.25, type = 6))\n",
    "\n",
    "print(\"..............................\")\n",
    "print(\"2nd Qu.\")\n",
    "print(quartile_(x, 2))\n",
    "print(quantile(x, probs = 0.50, type = 6))\n",
    "\n",
    "print(\"..............................\")\n",
    "print(\"3rd Qu.\")\n",
    "print(quartile_(x, 3))\n",
    "print(quantile(x, probs = 0.75, type = 6))\n",
    "\n",
    "print(\"..............................\")\n",
    "print(\"Percentile 5\")\n",
    "print(percentile_(x, 0.05))\n",
    "print(quantile(x, probs = 0.05, type = 6))\n",
    "\n",
    "print(\"..............................\")\n",
    "print(\"Percentile 45\")\n",
    "print(percentile_(x, 0.45))\n",
    "print(quantile(x, probs = 0.45, type = 6))\n",
    "\n",
    "print(\"..............................\")\n",
    "print(\"Percentile 78\")\n",
    "print(percentile_(x, 0.78))\n",
    "print(quantile(x, probs = 0.78, type = 6))\n"
   ]
  },
  {
   "cell_type": "code",
   "execution_count": null,
   "id": "0d99c562",
   "metadata": {
    "vscode": {
     "languageId": "r"
    }
   },
   "outputs": [
    {
     "data": {
      "text/html": [
       "0.5"
      ],
      "text/latex": [
       "0.5"
      ],
      "text/markdown": [
       "0.5"
      ],
      "text/plain": [
       "[1] 0.5"
      ]
     },
     "metadata": {},
     "output_type": "display_data"
    }
   ],
   "source": [
    "q <- 0.5\n",
    "q\n",
    "ls <- length(arr) * 0.5\n",
    "ls\n",
    "x[ls]"
   ]
  },
  {
   "cell_type": "code",
   "execution_count": null,
   "id": "a363996a",
   "metadata": {
    "vscode": {
     "languageId": "r"
    }
   },
   "outputs": [],
   "source": [
    "\n"
   ]
  },
  {
   "cell_type": "markdown",
   "id": "b3f13cdf",
   "metadata": {},
   "source": [
    "Frequencies"
   ]
  },
  {
   "cell_type": "code",
   "execution_count": 42,
   "id": "32e7bbce",
   "metadata": {
    "vscode": {
     "languageId": "r"
    }
   },
   "outputs": [
    {
     "data": {
      "text/html": [
       "<style>\n",
       ".list-inline {list-style: none; margin:0; padding: 0}\n",
       ".list-inline>li {display: inline-block}\n",
       ".list-inline>li:not(:last-child)::after {content: \"\\00b7\"; padding: 0 .5ex}\n",
       "</style>\n",
       "<ol class=list-inline><li>9</li><li>7</li><li>2</li><li>10</li><li>8</li><li>2</li><li>2</li><li>6</li><li>9</li><li>2</li><li>7</li><li>3</li><li>5</li><li>1</li><li>9</li><li>6</li><li>5</li><li>1</li><li>10</li><li>8</li><li>3</li><li>4</li><li>2</li><li>3</li><li>8</li><li>3</li><li>1</li><li>5</li><li>2</li><li>10</li><li>9</li><li>6</li><li>2</li><li>9</li><li>2</li><li>7</li><li>9</li><li>4</li><li>7</li><li>4</li><li>4</li><li>7</li><li>6</li><li>4</li><li>10</li><li>9</li><li>1</li><li>4</li><li>8</li><li>2</li><li>6</li><li>2</li><li>6</li><li>7</li><li>4</li><li>3</li><li>8</li><li>10</li><li>7</li><li>4</li><li>4</li><li>3</li><li>3</li><li>8</li><li>10</li><li>6</li><li>5</li><li>9</li><li>6</li><li>9</li><li>2</li><li>1</li><li>1</li><li>2</li><li>2</li><li>6</li><li>2</li><li>7</li><li>7</li><li>6</li><li>1</li><li>7</li><li>6</li><li>6</li><li>2</li><li>8</li><li>4</li><li>10</li><li>1</li><li>6</li><li>5</li><li>6</li><li>8</li><li>2</li><li>1</li><li>9</li><li>7</li><li>4</li><li>10</li><li>10</li></ol>\n"
      ],
      "text/latex": [
       "\\begin{enumerate*}\n",
       "\\item 9\n",
       "\\item 7\n",
       "\\item 2\n",
       "\\item 10\n",
       "\\item 8\n",
       "\\item 2\n",
       "\\item 2\n",
       "\\item 6\n",
       "\\item 9\n",
       "\\item 2\n",
       "\\item 7\n",
       "\\item 3\n",
       "\\item 5\n",
       "\\item 1\n",
       "\\item 9\n",
       "\\item 6\n",
       "\\item 5\n",
       "\\item 1\n",
       "\\item 10\n",
       "\\item 8\n",
       "\\item 3\n",
       "\\item 4\n",
       "\\item 2\n",
       "\\item 3\n",
       "\\item 8\n",
       "\\item 3\n",
       "\\item 1\n",
       "\\item 5\n",
       "\\item 2\n",
       "\\item 10\n",
       "\\item 9\n",
       "\\item 6\n",
       "\\item 2\n",
       "\\item 9\n",
       "\\item 2\n",
       "\\item 7\n",
       "\\item 9\n",
       "\\item 4\n",
       "\\item 7\n",
       "\\item 4\n",
       "\\item 4\n",
       "\\item 7\n",
       "\\item 6\n",
       "\\item 4\n",
       "\\item 10\n",
       "\\item 9\n",
       "\\item 1\n",
       "\\item 4\n",
       "\\item 8\n",
       "\\item 2\n",
       "\\item 6\n",
       "\\item 2\n",
       "\\item 6\n",
       "\\item 7\n",
       "\\item 4\n",
       "\\item 3\n",
       "\\item 8\n",
       "\\item 10\n",
       "\\item 7\n",
       "\\item 4\n",
       "\\item 4\n",
       "\\item 3\n",
       "\\item 3\n",
       "\\item 8\n",
       "\\item 10\n",
       "\\item 6\n",
       "\\item 5\n",
       "\\item 9\n",
       "\\item 6\n",
       "\\item 9\n",
       "\\item 2\n",
       "\\item 1\n",
       "\\item 1\n",
       "\\item 2\n",
       "\\item 2\n",
       "\\item 6\n",
       "\\item 2\n",
       "\\item 7\n",
       "\\item 7\n",
       "\\item 6\n",
       "\\item 1\n",
       "\\item 7\n",
       "\\item 6\n",
       "\\item 6\n",
       "\\item 2\n",
       "\\item 8\n",
       "\\item 4\n",
       "\\item 10\n",
       "\\item 1\n",
       "\\item 6\n",
       "\\item 5\n",
       "\\item 6\n",
       "\\item 8\n",
       "\\item 2\n",
       "\\item 1\n",
       "\\item 9\n",
       "\\item 7\n",
       "\\item 4\n",
       "\\item 10\n",
       "\\item 10\n",
       "\\end{enumerate*}\n"
      ],
      "text/markdown": [
       "1. 9\n",
       "2. 7\n",
       "3. 2\n",
       "4. 10\n",
       "5. 8\n",
       "6. 2\n",
       "7. 2\n",
       "8. 6\n",
       "9. 9\n",
       "10. 2\n",
       "11. 7\n",
       "12. 3\n",
       "13. 5\n",
       "14. 1\n",
       "15. 9\n",
       "16. 6\n",
       "17. 5\n",
       "18. 1\n",
       "19. 10\n",
       "20. 8\n",
       "21. 3\n",
       "22. 4\n",
       "23. 2\n",
       "24. 3\n",
       "25. 8\n",
       "26. 3\n",
       "27. 1\n",
       "28. 5\n",
       "29. 2\n",
       "30. 10\n",
       "31. 9\n",
       "32. 6\n",
       "33. 2\n",
       "34. 9\n",
       "35. 2\n",
       "36. 7\n",
       "37. 9\n",
       "38. 4\n",
       "39. 7\n",
       "40. 4\n",
       "41. 4\n",
       "42. 7\n",
       "43. 6\n",
       "44. 4\n",
       "45. 10\n",
       "46. 9\n",
       "47. 1\n",
       "48. 4\n",
       "49. 8\n",
       "50. 2\n",
       "51. 6\n",
       "52. 2\n",
       "53. 6\n",
       "54. 7\n",
       "55. 4\n",
       "56. 3\n",
       "57. 8\n",
       "58. 10\n",
       "59. 7\n",
       "60. 4\n",
       "61. 4\n",
       "62. 3\n",
       "63. 3\n",
       "64. 8\n",
       "65. 10\n",
       "66. 6\n",
       "67. 5\n",
       "68. 9\n",
       "69. 6\n",
       "70. 9\n",
       "71. 2\n",
       "72. 1\n",
       "73. 1\n",
       "74. 2\n",
       "75. 2\n",
       "76. 6\n",
       "77. 2\n",
       "78. 7\n",
       "79. 7\n",
       "80. 6\n",
       "81. 1\n",
       "82. 7\n",
       "83. 6\n",
       "84. 6\n",
       "85. 2\n",
       "86. 8\n",
       "87. 4\n",
       "88. 10\n",
       "89. 1\n",
       "90. 6\n",
       "91. 5\n",
       "92. 6\n",
       "93. 8\n",
       "94. 2\n",
       "95. 1\n",
       "96. 9\n",
       "97. 7\n",
       "98. 4\n",
       "99. 10\n",
       "100. 10\n",
       "\n",
       "\n"
      ],
      "text/plain": [
       "  [1]  9  7  2 10  8  2  2  6  9  2  7  3  5  1  9  6  5  1 10  8  3  4  2  3  8\n",
       " [26]  3  1  5  2 10  9  6  2  9  2  7  9  4  7  4  4  7  6  4 10  9  1  4  8  2\n",
       " [51]  6  2  6  7  4  3  8 10  7  4  4  3  3  8 10  6  5  9  6  9  2  1  1  2  2\n",
       " [76]  6  2  7  7  6  1  7  6  6  2  8  4 10  1  6  5  6  8  2  1  9  7  4 10 10"
      ]
     },
     "metadata": {},
     "output_type": "display_data"
    },
    {
     "data": {
      "text/plain": [
       "$breaks\n",
       " [1]  1  2  3  4  5  6  7  8  9 10\n",
       "\n",
       "$counts\n",
       "[1] 25  7 11  5 14 11  8 10  9\n",
       "\n",
       "$density\n",
       "[1] 0.25 0.07 0.11 0.05 0.14 0.11 0.08 0.10 0.09\n",
       "\n",
       "$mids\n",
       "[1] 1.5 2.5 3.5 4.5 5.5 6.5 7.5 8.5 9.5\n",
       "\n",
       "$xname\n",
       "[1] \"y\"\n",
       "\n",
       "$equidist\n",
       "[1] TRUE\n",
       "\n",
       "attr(,\"class\")\n",
       "[1] \"histogram\""
      ]
     },
     "metadata": {},
     "output_type": "display_data"
    }
   ],
   "source": [
    "# R\n",
    "\n",
    "y <- sample(10, 100, TRUE)  # Example data\n",
    "y\n",
    "h <- hist(y, plot = FALSE)\n",
    "h\n",
    "\n"
   ]
  },
  {
   "cell_type": "code",
   "execution_count": 43,
   "id": "74b6c8aa",
   "metadata": {
    "vscode": {
     "languageId": "r"
    }
   },
   "outputs": [],
   "source": [
    "\n",
    "histogram_ <- function(arr) {\n",
    "  print(class(arr))\n",
    "  values <- unique(sort(arr))\n",
    "  frequency_array <- table(arr)\n",
    "  density <- frequency_array / length(arr)\n",
    "  list(\n",
    "    values = values,\n",
    "    frequency = frequency_array,\n",
    "    density = density\n",
    "  )\n",
    "}"
   ]
  },
  {
   "cell_type": "code",
   "execution_count": 44,
   "id": "c378950d",
   "metadata": {
    "vscode": {
     "languageId": "r"
    }
   },
   "outputs": [
    {
     "name": "stdout",
     "output_type": "stream",
     "text": [
      "[1] \"numeric\"\n"
     ]
    },
    {
     "data": {
      "text/plain": [
       "$values\n",
       "[1] 1 2 3 4 5 6 9\n",
       "\n",
       "$frequency\n",
       "arr\n",
       "1 2 3 4 5 6 9 \n",
       "3 4 4 5 1 1 1 \n",
       "\n",
       "$density\n",
       "arr\n",
       "         1          2          3          4          5          6          9 \n",
       "0.15789474 0.21052632 0.21052632 0.26315789 0.05263158 0.05263158 0.05263158 \n"
      ]
     },
     "metadata": {},
     "output_type": "display_data"
    }
   ],
   "source": [
    "a <- c(9,3,2,3,1,4,2,3,4,4,1,2,3,4,5,6,1,2,4)\n",
    "histogram_(a)"
   ]
  },
  {
   "cell_type": "code",
   "execution_count": 45,
   "id": "cb2ad7a4",
   "metadata": {
    "vscode": {
     "languageId": "r"
    }
   },
   "outputs": [
    {
     "name": "stdout",
     "output_type": "stream",
     "text": [
      "[1] \"character\"\n"
     ]
    },
    {
     "data": {
      "text/plain": [
       "$values\n",
       "[1] \"a\" \"b\"\n",
       "\n",
       "$frequency\n",
       "arr\n",
       "a b \n",
       "2 1 \n",
       "\n",
       "$density\n",
       "arr\n",
       "        a         b \n",
       "0.6666667 0.3333333 \n"
      ]
     },
     "metadata": {},
     "output_type": "display_data"
    }
   ],
   "source": [
    "b <- c(\"a\",\"b\",\"a\")\n",
    "histogram_(b)"
   ]
  },
  {
   "cell_type": "code",
   "execution_count": 46,
   "id": "d7e172cb",
   "metadata": {
    "vscode": {
     "languageId": "r"
    }
   },
   "outputs": [
    {
     "name": "stdout",
     "output_type": "stream",
     "text": [
      "[1] \"numeric\"\n"
     ]
    },
    {
     "data": {
      "text/plain": [
       "$values\n",
       "[1] 1.123123 1.342340 3.000000\n",
       "\n",
       "$frequency\n",
       "arr\n",
       "1.123123  1.34234        3 \n",
       "       1        1        1 \n",
       "\n",
       "$density\n",
       "arr\n",
       " 1.123123   1.34234         3 \n",
       "0.3333333 0.3333333 0.3333333 \n"
      ]
     },
     "metadata": {},
     "output_type": "display_data"
    }
   ],
   "source": [
    "d<-c(1.123123, 3, 1.34234)\n",
    "histogram_(d)"
   ]
  },
  {
   "cell_type": "code",
   "execution_count": 47,
   "id": "837d5650",
   "metadata": {
    "vscode": {
     "languageId": "r"
    }
   },
   "outputs": [
    {
     "data": {
      "text/html": [
       "FALSE"
      ],
      "text/latex": [
       "FALSE"
      ],
      "text/markdown": [
       "FALSE"
      ],
      "text/plain": [
       "[1] FALSE"
      ]
     },
     "metadata": {},
     "output_type": "display_data"
    }
   ],
   "source": [
    "is.integer(1.2)"
   ]
  }
 ],
 "metadata": {
  "kernelspec": {
   "display_name": "R",
   "language": "R",
   "name": "ir"
  },
  "language_info": {
   "codemirror_mode": "r",
   "file_extension": ".r",
   "mimetype": "text/x-r-source",
   "name": "R",
   "pygments_lexer": "r",
   "version": "4.5.1"
  }
 },
 "nbformat": 4,
 "nbformat_minor": 5
}
