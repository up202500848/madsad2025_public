{
 "cells": [
  {
   "cell_type": "code",
   "execution_count": 1,
   "id": "df649e53",
   "metadata": {
    "vscode": {
     "languageId": "r"
    }
   },
   "outputs": [
    {
     "data": {
      "text/plain": [
       "   Min. 1st Qu.  Median    Mean 3rd Qu.    Max. \n",
       "    1.0     3.0     5.0     5.3     7.0    10.0 "
      ]
     },
     "metadata": {},
     "output_type": "display_data"
    },
    {
     "data": {
      "text/html": [
       "5.3"
      ],
      "text/latex": [
       "5.3"
      ],
      "text/markdown": [
       "5.3"
      ],
      "text/plain": [
       "[1] 5.3"
      ]
     },
     "metadata": {},
     "output_type": "display_data"
    },
    {
     "data": {
      "image/png": "[encoded data removed]",
      "text/plain": [
       "plot without title"
      ]
     },
     "metadata": {
      "image/png": {
       "height": 420,
       "width": 420
      }
     },
     "output_type": "display_data"
    }
   ],
   "source": [
    "# Sampling\n",
    "n <- 100\n",
    "x <- sample(1:10, n, replace = TRUE)\n",
    "\n",
    "summary(x)\n",
    "mean(x)\n",
    "plot(table(x))"
   ]
  },
  {
   "cell_type": "code",
   "execution_count": 16,
   "id": "62d5c916",
   "metadata": {
    "vscode": {
     "languageId": "r"
    }
   },
   "outputs": [
    {
     "data": {
      "text/html": [
       "6"
      ],
      "text/latex": [
       "6"
      ],
      "text/markdown": [
       "6"
      ],
      "text/plain": [
       "[1] 6"
      ]
     },
     "metadata": {},
     "output_type": "display_data"
    },
    {
     "data": {
      "text/html": [
       "<style>\n",
       ".dl-inline {width: auto; margin:0; padding: 0}\n",
       ".dl-inline>dt, .dl-inline>dd {float: none; width: auto; display: inline-block}\n",
       ".dl-inline>dt::after {content: \":\\0020\"; padding-right: .5ex}\n",
       ".dl-inline>dt:not(:first-of-type) {padding-left: .5ex}\n",
       "</style><dl class=dl-inline><dt>0%</dt><dd>1</dd><dt>25%</dt><dd>3</dd><dt>50%</dt><dd>6</dd><dt>75%</dt><dd>8</dd><dt>100%</dt><dd>10</dd></dl>\n"
      ],
      "text/latex": [
       "\\begin{description*}\n",
       "\\item[0\\textbackslash{}\\%] 1\n",
       "\\item[25\\textbackslash{}\\%] 3\n",
       "\\item[50\\textbackslash{}\\%] 6\n",
       "\\item[75\\textbackslash{}\\%] 8\n",
       "\\item[100\\textbackslash{}\\%] 10\n",
       "\\end{description*}\n"
      ],
      "text/markdown": [
       "0%\n",
       ":   125%\n",
       ":   350%\n",
       ":   675%\n",
       ":   8100%\n",
       ":   10\n",
       "\n"
      ],
      "text/plain": [
       "  0%  25%  50%  75% 100% \n",
       "   1    3    6    8   10 "
      ]
     },
     "metadata": {},
     "output_type": "display_data"
    }
   ],
   "source": [
    "median(x)\n",
    "quantile(x)"
   ]
  },
  {
   "cell_type": "markdown",
   "id": "ce348cec",
   "metadata": {},
   "source": [
    "\n",
    "Let the variance be:\n",
    "(population variance)\n",
    "\n",
    "$$\n",
    "\\sigma^2 = \\frac{1}{n} \\sum_{i=1}^{n} (x_i - \\bar{x})^2\n",
    "$$\n"
   ]
  },
  {
   "cell_type": "code",
   "execution_count": 17,
   "id": "9cdb1a72",
   "metadata": {
    "vscode": {
     "languageId": "r"
    }
   },
   "outputs": [
    {
     "data": {
      "text/html": [
       "7.6064"
      ],
      "text/latex": [
       "7.6064"
      ],
      "text/markdown": [
       "7.6064"
      ],
      "text/plain": [
       "[1] 7.6064"
      ]
     },
     "metadata": {},
     "output_type": "display_data"
    }
   ],
   "source": [
    "sum((x - mean(x))^2) / n\n",
    "# there's no R builtin function for population variance\n"
   ]
  },
  {
   "cell_type": "markdown",
   "id": "aea8152e",
   "metadata": {},
   "source": [
    "\n",
    "Let the sample variance be:\n",
    "\n",
    "$$\n",
    "s^2 = \\frac{1}{n-1} \\sum_{i=1}^{n} (x_i - \\bar{x})^2\n",
    "$$\n"
   ]
  },
  {
   "cell_type": "code",
   "execution_count": 18,
   "id": "7851d674",
   "metadata": {
    "vscode": {
     "languageId": "r"
    }
   },
   "outputs": [
    {
     "data": {
      "text/html": [
       "7.68323232323232"
      ],
      "text/latex": [
       "7.68323232323232"
      ],
      "text/markdown": [
       "7.68323232323232"
      ],
      "text/plain": [
       "[1] 7.683232"
      ]
     },
     "metadata": {},
     "output_type": "display_data"
    },
    {
     "data": {
      "text/html": [
       "7.68323232323232"
      ],
      "text/latex": [
       "7.68323232323232"
      ],
      "text/markdown": [
       "7.68323232323232"
      ],
      "text/plain": [
       "[1] 7.683232"
      ]
     },
     "metadata": {},
     "output_type": "display_data"
    }
   ],
   "source": [
    "sum((x - mean(x))^2) / (n - 1)\n",
    "var(x) # R builtin function for sample variance"
   ]
  },
  {
   "cell_type": "markdown",
   "id": "abdf9852",
   "metadata": {},
   "source": [
    "Population variance from sample variance\n",
    "\n",
    "$$\n",
    "\\sigma^2 = \\frac{n-1}{n} \\times s^2\n",
    "$$\n",
    "$$\n",
    "\\sigma^2 = \\frac{n-1}{n} \\times\\frac{1}{n-1} \\sum_{i=1}^{n} (x_i - \\bar{x})^2\n",
    "$$\n",
    "$$\n",
    "\\sigma^2 =  \\times\\frac{1}{n} \\sum_{i=1}^{n} (x_i - \\bar{x})^2\n",
    "$$"
   ]
  },
  {
   "cell_type": "code",
   "execution_count": 19,
   "id": "5c17eab6",
   "metadata": {
    "vscode": {
     "languageId": "r"
    }
   },
   "outputs": [
    {
     "data": {
      "text/html": [
       "7.6064"
      ],
      "text/latex": [
       "7.6064"
      ],
      "text/markdown": [
       "7.6064"
      ],
      "text/plain": [
       "[1] 7.6064"
      ]
     },
     "metadata": {},
     "output_type": "display_data"
    }
   ],
   "source": [
    "var(x) * (n - 1) / n\n"
   ]
  },
  {
   "cell_type": "code",
   "execution_count": 20,
   "id": "ec60d2bb",
   "metadata": {
    "vscode": {
     "languageId": "r"
    }
   },
   "outputs": [
    {
     "data": {
      "text/plain": [
       "x\n",
       " 1  2  3  4  5  6  7  8  9 10 \n",
       "10  5 14 10  6 17  9 11  9  9 "
      ]
     },
     "metadata": {},
     "output_type": "display_data"
    },
    {
     "data": {
      "image/png": "[encoded data removed]",
      "text/plain": [
       "plot without title"
      ]
     },
     "metadata": {
      "image/png": {
       "height": 420,
       "width": 420
      }
     },
     "output_type": "display_data"
    }
   ],
   "source": [
    "table(x)\n",
    "boxplot(x)"
   ]
  },
  {
   "cell_type": "code",
   "execution_count": 23,
   "id": "a336e545",
   "metadata": {
    "vscode": {
     "languageId": "r"
    }
   },
   "outputs": [
    {
     "data": {
      "image/png": "[encoded data removed]",
      "text/plain": [
       "plot without title"
      ]
     },
     "metadata": {
      "image/png": {
       "height": 420,
       "width": 420
      }
     },
     "output_type": "display_data"
    }
   ],
   "source": [
    "# Relative frequencies\n",
    "plot(table(x) / n)"
   ]
  },
  {
   "cell_type": "code",
   "execution_count": 24,
   "id": "c9f3d83d",
   "metadata": {
    "vscode": {
     "languageId": "r"
    }
   },
   "outputs": [
    {
     "data": {
      "text/plain": [
       "x\n",
       "   1    2    3    4    5    6    7    8    9   10 \n",
       "0.10 0.05 0.14 0.10 0.06 0.17 0.09 0.11 0.09 0.09 "
      ]
     },
     "metadata": {},
     "output_type": "display_data"
    },
    {
     "data": {
      "text/html": [
       "1"
      ],
      "text/latex": [
       "1"
      ],
      "text/markdown": [
       "1"
      ],
      "text/plain": [
       "[1] 1"
      ]
     },
     "metadata": {},
     "output_type": "display_data"
    },
    {
     "data": {
      "text/html": [
       "<style>\n",
       ".dl-inline {width: auto; margin:0; padding: 0}\n",
       ".dl-inline>dt, .dl-inline>dd {float: none; width: auto; display: inline-block}\n",
       ".dl-inline>dt::after {content: \":\\0020\"; padding-right: .5ex}\n",
       ".dl-inline>dt:not(:first-of-type) {padding-left: .5ex}\n",
       "</style><dl class=dl-inline><dt>1</dt><dd>0.1</dd><dt>2</dt><dd>0.15</dd><dt>3</dt><dd>0.29</dd><dt>4</dt><dd>0.39</dd><dt>5</dt><dd>0.45</dd><dt>6</dt><dd>0.62</dd><dt>7</dt><dd>0.71</dd><dt>8</dt><dd>0.82</dd><dt>9</dt><dd>0.91</dd><dt>10</dt><dd>1</dd></dl>\n"
      ],
      "text/latex": [
       "\\begin{description*}\n",
       "\\item[1] 0.1\n",
       "\\item[2] 0.15\n",
       "\\item[3] 0.29\n",
       "\\item[4] 0.39\n",
       "\\item[5] 0.45\n",
       "\\item[6] 0.62\n",
       "\\item[7] 0.71\n",
       "\\item[8] 0.82\n",
       "\\item[9] 0.91\n",
       "\\item[10] 1\n",
       "\\end{description*}\n"
      ],
      "text/markdown": [
       "1\n",
       ":   0.12\n",
       ":   0.153\n",
       ":   0.294\n",
       ":   0.395\n",
       ":   0.456\n",
       ":   0.627\n",
       ":   0.718\n",
       ":   0.829\n",
       ":   0.9110\n",
       ":   1\n",
       "\n"
      ],
      "text/plain": [
       "   1    2    3    4    5    6    7    8    9   10 \n",
       "0.10 0.15 0.29 0.39 0.45 0.62 0.71 0.82 0.91 1.00 "
      ]
     },
     "metadata": {},
     "output_type": "display_data"
    }
   ],
   "source": [
    "# which sum up to 1\n",
    "fi <- table(x) / n\n",
    "fi\n",
    "sum(fi)\n",
    "cumsum(fi)"
   ]
  },
  {
   "cell_type": "code",
   "execution_count": 25,
   "id": "506b4845",
   "metadata": {
    "vscode": {
     "languageId": "r"
    }
   },
   "outputs": [
    {
     "data": {
      "image/png": "[encoded data removed]",
      "text/plain": [
       "Plot with title \"Empirical Distribution Function\""
      ]
     },
     "metadata": {
      "image/png": {
       "height": 420,
       "width": 420
      }
     },
     "output_type": "display_data"
    }
   ],
   "source": [
    "plot.ecdf(x, main = \"Empirical Distribution Function\")"
   ]
  }
 ],
 "metadata": {
  "kernelspec": {
   "display_name": "R",
   "language": "R",
   "name": "ir"
  },
  "language_info": {
   "codemirror_mode": "r",
   "file_extension": ".r",
   "mimetype": "text/x-r-source",
   "name": "R",
   "pygments_lexer": "r",
   "version": "4.5.1"
  }
 },
 "nbformat": 4,
 "nbformat_minor": 5
}
