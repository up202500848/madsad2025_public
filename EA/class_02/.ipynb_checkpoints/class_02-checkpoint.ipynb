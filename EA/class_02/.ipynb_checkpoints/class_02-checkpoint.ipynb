{
 "cells": [
  {
   "cell_type": "markdown",
   "id": "dd8f4f18",
   "metadata": {},
   "source": [
    "Tossing a coin twice, what's the probability for heads up:\n",
    "\n",
    "tt+th+ht+hh\n",
    "\n",
    "$$\n",
    "\\mu=0\\times\\frac{1}{4}+1\\times\\frac{1}{2}+2\\times\\frac{1}{4}=1\n",
    "$$"
   ]
  },
  {
   "cell_type": "code",
   "execution_count": 2,
   "id": "d30173f6",
   "metadata": {
    "vscode": {
     "languageId": "r"
    }
   },
   "outputs": [
    {
     "data": {
      "text/html": [
       "20"
      ],
      "text/latex": [
       "20"
      ],
      "text/markdown": [
       "20"
      ],
      "text/plain": [
       "[1] 20"
      ]
     },
     "metadata": {},
     "output_type": "display_data"
    }
   ],
   "source": [
    "4*5\n",
    "A<-1"
   ]
  },
  {
   "cell_type": "code",
   "execution_count": null,
   "id": "3b8d8ff6-a283-42ad-87b0-489e2d94c56c",
   "metadata": {},
   "outputs": [],
   "source": []
  }
 ],
 "metadata": {
  "kernelspec": {
   "display_name": "R",
   "language": "R",
   "name": "ir"
  },
  "language_info": {
   "codemirror_mode": "r",
   "file_extension": ".r",
   "mimetype": "text/x-r-source",
   "name": "R",
   "pygments_lexer": "r",
   "version": "4.5.1"
  }
 },
 "nbformat": 4,
 "nbformat_minor": 5
}
