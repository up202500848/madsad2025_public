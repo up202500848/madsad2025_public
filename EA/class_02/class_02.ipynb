{
 "cells": [
  {
   "cell_type": "markdown",
   "id": "dd8f4f18",
   "metadata": {},
   "source": [
    "Tossing a coin twice, what's the probability for heads up:\n",
    "\n",
    "tt+th+ht+hh\n",
    "\n",
    "$$\n",
    "\\mu=0\\times\\frac{1}{4}+1\\times\\frac{1}{2}+2\\times\\frac{1}{4}=1\n",
    "$$"
   ]
  },
  {
   "cell_type": "markdown",
   "id": "3b8d8ff6-a283-42ad-87b0-489e2d94c56c",
   "metadata": {},
   "source": [
    "Example of a joint probability function for two discrete bivariate random variables"
   ]
  },
  {
   "cell_type": "markdown",
   "id": "f6ab2cde",
   "metadata": {},
   "source": [
    "## Example Setup\n",
    "Let $X$ and $Y$ be discrete random variables representing the outcome of two dice:\n",
    "\n",
    "\n",
    "$X$: result of rolling a fair 4-sided die (values: $1, 2, 3, 4$)\n",
    "\n",
    "$Y$: result of rolling a fair 3-sided die (values: $1, 2, 3$)\n",
    "\n",
    "Assume the dice are independent. Then the joint probability mass function (pmf) is:\n",
    "\n",
    "$$\n",
    "P(X=x, Y=y)=\\frac{1}{4}\\cdot\\frac{1}{3}=\\frac{1}{12}\n",
    "$$\n",
    "\n",
    "for all $x\\in\\{1,2,3,4\\}$ and $y\\in\\{1,2,3\\}$"
   ]
  },
  {
   "cell_type": "markdown",
   "id": "bed44e17",
   "metadata": {},
   "source": [
    "## Interpretation\n",
    "\n",
    "This is a uniform joint distribution over the 12 possible outcomes.\n",
    "\n",
    "Since the variables are independent, the joint pmf factors as $P(X,Y)=P(X)P(Y)$.\n"
   ]
  },
  {
   "cell_type": "markdown",
   "id": "3e7eb1ee",
   "metadata": {},
   "source": [
    "# Binomial"
   ]
  },
  {
   "cell_type": "code",
   "execution_count": 26,
   "id": "c550f383",
   "metadata": {
    "vscode": {
     "languageId": "r"
    }
   },
   "outputs": [
    {
     "data": {
      "text/html": [
       "0.171875"
      ],
      "text/latex": [
       "0.171875"
      ],
      "text/markdown": [
       "0.171875"
      ],
      "text/plain": [
       "[1] 0.171875"
      ]
     },
     "metadata": {},
     "output_type": "display_data"
    },
    {
     "data": {
      "text/html": [
       "0.1171875"
      ],
      "text/latex": [
       "0.1171875"
      ],
      "text/markdown": [
       "0.1171875"
      ],
      "text/plain": [
       "[1] 0.1171875"
      ]
     },
     "metadata": {},
     "output_type": "display_data"
    },
    {
     "data": {
      "text/html": [
       "3"
      ],
      "text/latex": [
       "3"
      ],
      "text/markdown": [
       "3"
      ],
      "text/plain": [
       "[1] 3"
      ]
     },
     "metadata": {},
     "output_type": "display_data"
    },
    {
     "data": {
      "image/png": "[encoded data removed]",
      "text/plain": [
       "Plot with title \"Bi( 10 ,  0.5 )\""
      ]
     },
     "metadata": {
      "image/png": {
       "height": 420,
       "width": 420
      }
     },
     "output_type": "display_data"
    }
   ],
   "source": [
    "n <- 10\n",
    "p <- 0.5\n",
    "x <- 0:n\n",
    "fx <- dbinom(x, size = n, prob = p)\n",
    "plot(x, fx, pch = 20, type = \"p\", main = paste(\"Bi(\", n, \", \", p, \")\"))\n",
    "lines(x, fx, type = \"h\")\n",
    "pbinom(3, size = n, prob = p) #P(X≤3) = 0.171875 = F(3)\n",
    "dbinom(3, size = n, prob = p) #P(X=3) = 0.117187 = f(3)\n",
    "qbinom(0.171875, size = n, prob = p)"
   ]
  },
  {
   "cell_type": "markdown",
   "id": "915156ce",
   "metadata": {},
   "source": [
    "Binomial distribution"
   ]
  },
  {
   "cell_type": "code",
   "execution_count": 27,
   "id": "07fd3c1d",
   "metadata": {
    "vscode": {
     "languageId": "r"
    }
   },
   "outputs": [
    {
     "data": {
      "text/html": [
       "<style>\n",
       ".list-inline {list-style: none; margin:0; padding: 0}\n",
       ".list-inline>li {display: inline-block}\n",
       ".list-inline>li:not(:last-child)::after {content: \"\\00b7\"; padding: 0 .5ex}\n",
       "</style>\n",
       "<ol class=list-inline><li>18</li><li>17</li><li>25</li><li>24</li><li>22</li><li>30</li><li>27</li><li>20</li><li>24</li><li>24</li><li>21</li><li>23</li><li>25</li><li>26</li><li>32</li><li>25</li><li>18</li><li>28</li><li>20</li><li>20</li><li>28</li><li>29</li><li>21</li><li>29</li><li>21</li><li>23</li><li>25</li><li>24</li><li>26</li><li>21</li><li>18</li><li>28</li><li>23</li><li>24</li><li>25</li><li>24</li><li>21</li><li>28</li><li>27</li><li>24</li><li>18</li><li>24</li><li>27</li><li>31</li><li>23</li><li>28</li><li>24</li><li>24</li><li>24</li><li>27</li><li>29</li><li>32</li><li>22</li><li>30</li><li>25</li><li>20</li><li>34</li><li>27</li><li>34</li><li>29</li><li>32</li><li>21</li><li>31</li><li>28</li><li>24</li><li>25</li><li>21</li><li>22</li><li>27</li><li>25</li><li>22</li><li>27</li><li>26</li><li>25</li><li>23</li><li>25</li><li>22</li><li>27</li><li>31</li><li>21</li><li>18</li><li>22</li><li>27</li><li>36</li><li>33</li><li>23</li><li>27</li><li>25</li><li>33</li><li>25</li><li>20</li><li>21</li><li>26</li><li>30</li><li>27</li><li>23</li><li>26</li><li>26</li><li>19</li><li>24</li></ol>\n"
      ],
      "text/latex": [
       "\\begin{enumerate*}\n",
       "\\item 18\n",
       "\\item 17\n",
       "\\item 25\n",
       "\\item 24\n",
       "\\item 22\n",
       "\\item 30\n",
       "\\item 27\n",
       "\\item 20\n",
       "\\item 24\n",
       "\\item 24\n",
       "\\item 21\n",
       "\\item 23\n",
       "\\item 25\n",
       "\\item 26\n",
       "\\item 32\n",
       "\\item 25\n",
       "\\item 18\n",
       "\\item 28\n",
       "\\item 20\n",
       "\\item 20\n",
       "\\item 28\n",
       "\\item 29\n",
       "\\item 21\n",
       "\\item 29\n",
       "\\item 21\n",
       "\\item 23\n",
       "\\item 25\n",
       "\\item 24\n",
       "\\item 26\n",
       "\\item 21\n",
       "\\item 18\n",
       "\\item 28\n",
       "\\item 23\n",
       "\\item 24\n",
       "\\item 25\n",
       "\\item 24\n",
       "\\item 21\n",
       "\\item 28\n",
       "\\item 27\n",
       "\\item 24\n",
       "\\item 18\n",
       "\\item 24\n",
       "\\item 27\n",
       "\\item 31\n",
       "\\item 23\n",
       "\\item 28\n",
       "\\item 24\n",
       "\\item 24\n",
       "\\item 24\n",
       "\\item 27\n",
       "\\item 29\n",
       "\\item 32\n",
       "\\item 22\n",
       "\\item 30\n",
       "\\item 25\n",
       "\\item 20\n",
       "\\item 34\n",
       "\\item 27\n",
       "\\item 34\n",
       "\\item 29\n",
       "\\item 32\n",
       "\\item 21\n",
       "\\item 31\n",
       "\\item 28\n",
       "\\item 24\n",
       "\\item 25\n",
       "\\item 21\n",
       "\\item 22\n",
       "\\item 27\n",
       "\\item 25\n",
       "\\item 22\n",
       "\\item 27\n",
       "\\item 26\n",
       "\\item 25\n",
       "\\item 23\n",
       "\\item 25\n",
       "\\item 22\n",
       "\\item 27\n",
       "\\item 31\n",
       "\\item 21\n",
       "\\item 18\n",
       "\\item 22\n",
       "\\item 27\n",
       "\\item 36\n",
       "\\item 33\n",
       "\\item 23\n",
       "\\item 27\n",
       "\\item 25\n",
       "\\item 33\n",
       "\\item 25\n",
       "\\item 20\n",
       "\\item 21\n",
       "\\item 26\n",
       "\\item 30\n",
       "\\item 27\n",
       "\\item 23\n",
       "\\item 26\n",
       "\\item 26\n",
       "\\item 19\n",
       "\\item 24\n",
       "\\end{enumerate*}\n"
      ],
      "text/markdown": [
       "1. 18\n",
       "2. 17\n",
       "3. 25\n",
       "4. 24\n",
       "5. 22\n",
       "6. 30\n",
       "7. 27\n",
       "8. 20\n",
       "9. 24\n",
       "10. 24\n",
       "11. 21\n",
       "12. 23\n",
       "13. 25\n",
       "14. 26\n",
       "15. 32\n",
       "16. 25\n",
       "17. 18\n",
       "18. 28\n",
       "19. 20\n",
       "20. 20\n",
       "21. 28\n",
       "22. 29\n",
       "23. 21\n",
       "24. 29\n",
       "25. 21\n",
       "26. 23\n",
       "27. 25\n",
       "28. 24\n",
       "29. 26\n",
       "30. 21\n",
       "31. 18\n",
       "32. 28\n",
       "33. 23\n",
       "34. 24\n",
       "35. 25\n",
       "36. 24\n",
       "37. 21\n",
       "38. 28\n",
       "39. 27\n",
       "40. 24\n",
       "41. 18\n",
       "42. 24\n",
       "43. 27\n",
       "44. 31\n",
       "45. 23\n",
       "46. 28\n",
       "47. 24\n",
       "48. 24\n",
       "49. 24\n",
       "50. 27\n",
       "51. 29\n",
       "52. 32\n",
       "53. 22\n",
       "54. 30\n",
       "55. 25\n",
       "56. 20\n",
       "57. 34\n",
       "58. 27\n",
       "59. 34\n",
       "60. 29\n",
       "61. 32\n",
       "62. 21\n",
       "63. 31\n",
       "64. 28\n",
       "65. 24\n",
       "66. 25\n",
       "67. 21\n",
       "68. 22\n",
       "69. 27\n",
       "70. 25\n",
       "71. 22\n",
       "72. 27\n",
       "73. 26\n",
       "74. 25\n",
       "75. 23\n",
       "76. 25\n",
       "77. 22\n",
       "78. 27\n",
       "79. 31\n",
       "80. 21\n",
       "81. 18\n",
       "82. 22\n",
       "83. 27\n",
       "84. 36\n",
       "85. 33\n",
       "86. 23\n",
       "87. 27\n",
       "88. 25\n",
       "89. 33\n",
       "90. 25\n",
       "91. 20\n",
       "92. 21\n",
       "93. 26\n",
       "94. 30\n",
       "95. 27\n",
       "96. 23\n",
       "97. 26\n",
       "98. 26\n",
       "99. 19\n",
       "100. 24\n",
       "\n",
       "\n"
      ],
      "text/plain": [
       "  [1] 18 17 25 24 22 30 27 20 24 24 21 23 25 26 32 25 18 28 20 20 28 29 21 29 21\n",
       " [26] 23 25 24 26 21 18 28 23 24 25 24 21 28 27 24 18 24 27 31 23 28 24 24 24 27\n",
       " [51] 29 32 22 30 25 20 34 27 34 29 32 21 31 28 24 25 21 22 27 25 22 27 26 25 23\n",
       " [76] 25 22 27 31 21 18 22 27 36 33 23 27 25 33 25 20 21 26 30 27 23 26 26 19 24"
      ]
     },
     "metadata": {},
     "output_type": "display_data"
    }
   ],
   "source": [
    "r <- rbinom(n = 100, size = 50, prob = 0.5)\n",
    "r"
   ]
  },
  {
   "cell_type": "markdown",
   "id": "ab287c34",
   "metadata": {},
   "source": [
    "# Hypergeometric"
   ]
  },
  {
   "cell_type": "code",
   "execution_count": 28,
   "id": "a96e73e3",
   "metadata": {
    "vscode": {
     "languageId": "r"
    }
   },
   "outputs": [
    {
     "data": {
      "text/html": [
       "0.158920009855546"
      ],
      "text/latex": [
       "0.158920009855546"
      ],
      "text/markdown": [
       "0.158920009855546"
      ],
      "text/plain": [
       "[1] 0.15892"
      ]
     },
     "metadata": {},
     "output_type": "display_data"
    },
    {
     "data": {
      "text/html": [
       "0.11309643221148"
      ],
      "text/latex": [
       "0.11309643221148"
      ],
      "text/markdown": [
       "0.11309643221148"
      ],
      "text/plain": [
       "[1] 0.1130964"
      ]
     },
     "metadata": {},
     "output_type": "display_data"
    },
    {
     "data": {
      "text/html": [
       "3"
      ],
      "text/latex": [
       "3"
      ],
      "text/markdown": [
       "3"
      ],
      "text/plain": [
       "[1] 3"
      ]
     },
     "metadata": {},
     "output_type": "display_data"
    },
    {
     "data": {
      "image/png": "[encoded data removed]",
      "text/plain": [
       "Plot with title \"H( 100 ,  10 ,  0.5 )\""
      ]
     },
     "metadata": {
      "image/png": {
       "height": 420,
       "width": 420
      }
     },
     "output_type": "display_data"
    }
   ],
   "source": [
    "N <- 100\n",
    "n <- 10\n",
    "p <- 0.5\n",
    "x <- 0:n\n",
    "fx <- dhyper(x, m = N * p, n = N * (1 - p), k = n)\n",
    "plot(x, fx, pch = 20, type = \"p\", main = paste(\"H(\", N, \", \", n, \", \", p, \")\"))\n",
    "lines(x, fx, type = \"h\")\n",
    "phyper(3, m = N * p, n = N * (1 - p), k = n) #P(X≤3) = 0.15892\n",
    "dhyper(3, m = N * p, n = N * (1 - p), k = n) #P(X=3) = 0.1130964\n",
    "qhyper(0.15892, m = N * p, n = N * (1 - p), k = n)"
   ]
  },
  {
   "cell_type": "markdown",
   "id": "43593450",
   "metadata": {},
   "source": [
    "Hypergeometric distribution\n"
   ]
  },
  {
   "cell_type": "code",
   "execution_count": 30,
   "id": "9c69547a",
   "metadata": {
    "vscode": {
     "languageId": "r"
    }
   },
   "outputs": [
    {
     "data": {
      "text/html": [
       "<style>\n",
       ".list-inline {list-style: none; margin:0; padding: 0}\n",
       ".list-inline>li {display: inline-block}\n",
       ".list-inline>li:not(:last-child)::after {content: \"\\00b7\"; padding: 0 .5ex}\n",
       "</style>\n",
       "<ol class=list-inline><li>9</li><li>9</li><li>9</li><li>9</li><li>9</li><li>9</li><li>9</li><li>9</li><li>10</li><li>9</li><li>9</li><li>10</li><li>10</li><li>9</li><li>9</li><li>9</li><li>9</li><li>9</li><li>9</li><li>9</li><li>9</li><li>9</li><li>9</li><li>9</li><li>9</li><li>10</li><li>9</li><li>9</li><li>9</li><li>9</li><li>9</li><li>9</li><li>10</li><li>9</li><li>9</li><li>10</li><li>9</li><li>10</li><li>9</li><li>9</li><li>9</li><li>9</li><li>9</li><li>9</li><li>9</li><li>9</li><li>9</li><li>9</li><li>9</li><li>9</li><li>9</li><li>9</li><li>9</li><li>9</li><li>9</li><li>9</li><li>9</li><li>9</li><li>9</li><li>9</li><li>9</li><li>9</li><li>9</li><li>9</li><li>9</li><li>9</li><li>9</li><li>10</li><li>9</li><li>9</li><li>9</li><li>10</li><li>9</li><li>9</li><li>9</li><li>9</li><li>9</li><li>10</li><li>9</li><li>9</li><li>9</li><li>9</li><li>10</li><li>9</li><li>9</li><li>9</li><li>9</li><li>9</li><li>9</li><li>9</li><li>9</li><li>10</li><li>9</li><li>9</li><li>9</li><li>9</li><li>9</li><li>10</li><li>9</li><li>9</li></ol>\n"
      ],
      "text/latex": [
       "\\begin{enumerate*}\n",
       "\\item 9\n",
       "\\item 9\n",
       "\\item 9\n",
       "\\item 9\n",
       "\\item 9\n",
       "\\item 9\n",
       "\\item 9\n",
       "\\item 9\n",
       "\\item 10\n",
       "\\item 9\n",
       "\\item 9\n",
       "\\item 10\n",
       "\\item 10\n",
       "\\item 9\n",
       "\\item 9\n",
       "\\item 9\n",
       "\\item 9\n",
       "\\item 9\n",
       "\\item 9\n",
       "\\item 9\n",
       "\\item 9\n",
       "\\item 9\n",
       "\\item 9\n",
       "\\item 9\n",
       "\\item 9\n",
       "\\item 10\n",
       "\\item 9\n",
       "\\item 9\n",
       "\\item 9\n",
       "\\item 9\n",
       "\\item 9\n",
       "\\item 9\n",
       "\\item 10\n",
       "\\item 9\n",
       "\\item 9\n",
       "\\item 10\n",
       "\\item 9\n",
       "\\item 10\n",
       "\\item 9\n",
       "\\item 9\n",
       "\\item 9\n",
       "\\item 9\n",
       "\\item 9\n",
       "\\item 9\n",
       "\\item 9\n",
       "\\item 9\n",
       "\\item 9\n",
       "\\item 9\n",
       "\\item 9\n",
       "\\item 9\n",
       "\\item 9\n",
       "\\item 9\n",
       "\\item 9\n",
       "\\item 9\n",
       "\\item 9\n",
       "\\item 9\n",
       "\\item 9\n",
       "\\item 9\n",
       "\\item 9\n",
       "\\item 9\n",
       "\\item 9\n",
       "\\item 9\n",
       "\\item 9\n",
       "\\item 9\n",
       "\\item 9\n",
       "\\item 9\n",
       "\\item 9\n",
       "\\item 10\n",
       "\\item 9\n",
       "\\item 9\n",
       "\\item 9\n",
       "\\item 10\n",
       "\\item 9\n",
       "\\item 9\n",
       "\\item 9\n",
       "\\item 9\n",
       "\\item 9\n",
       "\\item 10\n",
       "\\item 9\n",
       "\\item 9\n",
       "\\item 9\n",
       "\\item 9\n",
       "\\item 10\n",
       "\\item 9\n",
       "\\item 9\n",
       "\\item 9\n",
       "\\item 9\n",
       "\\item 9\n",
       "\\item 9\n",
       "\\item 9\n",
       "\\item 9\n",
       "\\item 10\n",
       "\\item 9\n",
       "\\item 9\n",
       "\\item 9\n",
       "\\item 9\n",
       "\\item 9\n",
       "\\item 10\n",
       "\\item 9\n",
       "\\item 9\n",
       "\\end{enumerate*}\n"
      ],
      "text/markdown": [
       "1. 9\n",
       "2. 9\n",
       "3. 9\n",
       "4. 9\n",
       "5. 9\n",
       "6. 9\n",
       "7. 9\n",
       "8. 9\n",
       "9. 10\n",
       "10. 9\n",
       "11. 9\n",
       "12. 10\n",
       "13. 10\n",
       "14. 9\n",
       "15. 9\n",
       "16. 9\n",
       "17. 9\n",
       "18. 9\n",
       "19. 9\n",
       "20. 9\n",
       "21. 9\n",
       "22. 9\n",
       "23. 9\n",
       "24. 9\n",
       "25. 9\n",
       "26. 10\n",
       "27. 9\n",
       "28. 9\n",
       "29. 9\n",
       "30. 9\n",
       "31. 9\n",
       "32. 9\n",
       "33. 10\n",
       "34. 9\n",
       "35. 9\n",
       "36. 10\n",
       "37. 9\n",
       "38. 10\n",
       "39. 9\n",
       "40. 9\n",
       "41. 9\n",
       "42. 9\n",
       "43. 9\n",
       "44. 9\n",
       "45. 9\n",
       "46. 9\n",
       "47. 9\n",
       "48. 9\n",
       "49. 9\n",
       "50. 9\n",
       "51. 9\n",
       "52. 9\n",
       "53. 9\n",
       "54. 9\n",
       "55. 9\n",
       "56. 9\n",
       "57. 9\n",
       "58. 9\n",
       "59. 9\n",
       "60. 9\n",
       "61. 9\n",
       "62. 9\n",
       "63. 9\n",
       "64. 9\n",
       "65. 9\n",
       "66. 9\n",
       "67. 9\n",
       "68. 10\n",
       "69. 9\n",
       "70. 9\n",
       "71. 9\n",
       "72. 10\n",
       "73. 9\n",
       "74. 9\n",
       "75. 9\n",
       "76. 9\n",
       "77. 9\n",
       "78. 10\n",
       "79. 9\n",
       "80. 9\n",
       "81. 9\n",
       "82. 9\n",
       "83. 10\n",
       "84. 9\n",
       "85. 9\n",
       "86. 9\n",
       "87. 9\n",
       "88. 9\n",
       "89. 9\n",
       "90. 9\n",
       "91. 9\n",
       "92. 10\n",
       "93. 9\n",
       "94. 9\n",
       "95. 9\n",
       "96. 9\n",
       "97. 9\n",
       "98. 10\n",
       "99. 9\n",
       "100. 9\n",
       "\n",
       "\n"
      ],
      "text/plain": [
       "  [1]  9  9  9  9  9  9  9  9 10  9  9 10 10  9  9  9  9  9  9  9  9  9  9  9  9\n",
       " [26] 10  9  9  9  9  9  9 10  9  9 10  9 10  9  9  9  9  9  9  9  9  9  9  9  9\n",
       " [51]  9  9  9  9  9  9  9  9  9  9  9  9  9  9  9  9  9 10  9  9  9 10  9  9  9\n",
       " [76]  9  9 10  9  9  9  9 10  9  9  9  9  9  9  9  9 10  9  9  9  9  9 10  9  9"
      ]
     },
     "metadata": {},
     "output_type": "display_data"
    }
   ],
   "source": [
    "\n",
    "rhyper(100, 10, 0.9, 10)"
   ]
  },
  {
   "cell_type": "markdown",
   "id": "8b565931",
   "metadata": {},
   "source": [
    "# Poison"
   ]
  },
  {
   "cell_type": "code",
   "execution_count": 31,
   "id": "a86be72a",
   "metadata": {
    "vscode": {
     "languageId": "r"
    }
   },
   "outputs": [
    {
     "data": {
      "text/html": [
       "0.93435754562155"
      ],
      "text/latex": [
       "0.93435754562155"
      ],
      "text/markdown": [
       "0.93435754562155"
      ],
      "text/plain": [
       "[1] 0.9343575"
      ]
     },
     "metadata": {},
     "output_type": "display_data"
    },
    {
     "data": {
      "text/html": [
       "0.125510715083492"
      ],
      "text/latex": [
       "0.125510715083492"
      ],
      "text/markdown": [
       "0.125510715083492"
      ],
      "text/plain": [
       "[1] 0.1255107"
      ]
     },
     "metadata": {},
     "output_type": "display_data"
    },
    {
     "data": {
      "text/html": [
       "3"
      ],
      "text/latex": [
       "3"
      ],
      "text/markdown": [
       "3"
      ],
      "text/plain": [
       "[1] 3"
      ]
     },
     "metadata": {},
     "output_type": "display_data"
    },
    {
     "data": {
      "image/png": "[encoded data removed]",
      "text/plain": [
       "Plot with title \"Po( 1.5 )\""
      ]
     },
     "metadata": {
      "image/png": {
       "height": 420,
       "width": 420
      }
     },
     "output_type": "display_data"
    }
   ],
   "source": [
    "l <- 1.5\n",
    "x <- 0:10\n",
    "fx <- dpois(x, lambda = l)\n",
    "plot(x, fx, pch = 20, type = \"p\", main = paste(\"Po(\", l, \")\"))\n",
    "lines(x, fx, type = \"h\")\n",
    "ppois(3, lambda = l) #P(X≤3) = 0.9343575\n",
    "dpois(3, lambda = l) #P(X=3) = 0.1255107\n",
    "qpois(0.9343575, lambda = l)"
   ]
  },
  {
   "cell_type": "markdown",
   "id": "58ad4370",
   "metadata": {},
   "source": [
    "Poison distribution"
   ]
  },
  {
   "cell_type": "code",
   "execution_count": 41,
   "id": "c7562003",
   "metadata": {
    "vscode": {
     "languageId": "r"
    }
   },
   "outputs": [
    {
     "data": {
      "text/html": [
       "4.0119"
      ],
      "text/latex": [
       "4.0119"
      ],
      "text/markdown": [
       "4.0119"
      ],
      "text/plain": [
       "[1] 4.0119"
      ]
     },
     "metadata": {},
     "output_type": "display_data"
    }
   ],
   "source": [
    "mean(rpois(10000, 4))"
   ]
  },
  {
   "cell_type": "markdown",
   "id": "c27c69b4",
   "metadata": {},
   "source": [
    "# Normal"
   ]
  },
  {
   "cell_type": "code",
   "execution_count": 42,
   "id": "a6e14ff1",
   "metadata": {
    "vscode": {
     "languageId": "r"
    }
   },
   "outputs": [
    {
     "data": {
      "text/html": [
       "0.344578258389676"
      ],
      "text/latex": [
       "0.344578258389676"
      ],
      "text/markdown": [
       "0.344578258389676"
      ],
      "text/plain": [
       "[1] 0.3445783"
      ]
     },
     "metadata": {},
     "output_type": "display_data"
    },
    {
     "data": {
      "text/html": [
       "0.344578258389676"
      ],
      "text/latex": [
       "0.344578258389676"
      ],
      "text/markdown": [
       "0.344578258389676"
      ],
      "text/plain": [
       "[1] 0.3445783"
      ]
     },
     "metadata": {},
     "output_type": "display_data"
    },
    {
     "data": {
      "text/html": [
       "3.00000056494294"
      ],
      "text/latex": [
       "3.00000056494294"
      ],
      "text/markdown": [
       "3.00000056494294"
      ],
      "text/plain": [
       "[1] 3.000001"
      ]
     },
     "metadata": {},
     "output_type": "display_data"
    },
    {
     "data": {
      "image/png": "[encoded data removed]",
      "text/plain": [
       "Plot with title \"N( 5 , 25 )\""
      ]
     },
     "metadata": {
      "image/png": {
       "height": 420,
       "width": 420
      }
     },
     "output_type": "display_data"
    }
   ],
   "source": [
    "miu <- 5\n",
    "sigma2 <- 25; sigma <- sqrt(sigma2)\n",
    "x <- seq(-4,4,by=0.01)*sigma + miu\n",
    "fx <- dnorm(x,mean=miu,sd=sigma)\n",
    "plot(x, fx, pch=20, type=\"l\",main=paste(\"N(\",miu,\",\",sigma2,\")\"))\n",
    "pnorm(3,mean=miu,sd=sigma) #P(X≤3) = 0.3445783\n",
    "pnorm((3-miu)/sigma) #P(Z≤-0.4) = 0.3445783\n",
    "qnorm(0.3445783,mean=miu,sd=sigma)"
   ]
  },
  {
   "cell_type": "markdown",
   "id": "f498a34e",
   "metadata": {
    "vscode": {
     "languageId": "r"
    }
   },
   "source": [
    "Normal distribution"
   ]
  },
  {
   "cell_type": "code",
   "execution_count": 49,
   "id": "d8ac9f11",
   "metadata": {
    "vscode": {
     "languageId": "r"
    }
   },
   "outputs": [
    {
     "data": {
      "text/plain": [
       "   Min. 1st Qu.  Median    Mean 3rd Qu.    Max. \n",
       " 0.4243  0.4415  0.5094  0.5189  0.5508  0.7445 "
      ]
     },
     "metadata": {},
     "output_type": "display_data"
    }
   ],
   "source": [
    "N <- rnorm(10, 0.5, 0.1)\n",
    "summary(N)"
   ]
  }
 ],
 "metadata": {
  "kernelspec": {
   "display_name": "R",
   "language": "R",
   "name": "ir"
  },
  "language_info": {
   "codemirror_mode": "r",
   "file_extension": ".r",
   "mimetype": "text/x-r-source",
   "name": "R",
   "pygments_lexer": "r",
   "version": "4.5.1"
  }
 },
 "nbformat": 4,
 "nbformat_minor": 5
}
