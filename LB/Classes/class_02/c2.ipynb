{
 "cells": [
  {
   "cell_type": "markdown",
   "id": "6d0c0725",
   "metadata": {},
   "source": [
    "# Algebra with numpy"
   ]
  },
  {
   "cell_type": "code",
   "execution_count": 228,
   "id": "851da98f",
   "metadata": {},
   "outputs": [],
   "source": [
    "import numpy as np\n",
    "import matplotlib.pyplot as plt"
   ]
  },
  {
   "cell_type": "code",
   "execution_count": 229,
   "id": "e210a8e0",
   "metadata": {},
   "outputs": [],
   "source": [
    "A=[[1, 4, 6], [3, 2, 10]]\n",
    "B=[[5, 3, 2], [1, 2, 7]]\n",
    "C=[[0, 0, 0], [0, 0, 0]]"
   ]
  },
  {
   "cell_type": "markdown",
   "id": "9c0ba002",
   "metadata": {},
   "source": [
    "With simple constructs as loops"
   ]
  },
  {
   "cell_type": "code",
   "execution_count": 230,
   "id": "f4a620f3",
   "metadata": {},
   "outputs": [
    {
     "data": {
      "text/plain": [
       "[[6, 7, 8], [4, 4, 17]]"
      ]
     },
     "execution_count": 230,
     "metadata": {},
     "output_type": "execute_result"
    }
   ],
   "source": [
    "for r in range(len(A)):\n",
    "  for c in range(len(A[0])):\n",
    "    C[r][c] = A[r][c] + B[r][c]\n",
    "\n",
    "C"
   ]
  },
  {
   "cell_type": "markdown",
   "id": "055eed0f",
   "metadata": {},
   "source": [
    "# np.array\n",
    "\n",
    "Alternatively with numpy"
   ]
  },
  {
   "cell_type": "code",
   "execution_count": 231,
   "id": "9d0dc4b9",
   "metadata": {},
   "outputs": [
    {
     "data": {
      "text/plain": [
       "numpy.ndarray"
      ]
     },
     "execution_count": 231,
     "metadata": {},
     "output_type": "execute_result"
    }
   ],
   "source": [
    "A_= np.array(A)\n",
    "B_= np.array(B)\n",
    "type(A_)\n"
   ]
  },
  {
   "cell_type": "code",
   "execution_count": 232,
   "id": "a3611bbc",
   "metadata": {},
   "outputs": [
    {
     "data": {
      "text/plain": [
       "array([[ 6,  7,  8],\n",
       "       [ 4,  4, 17]])"
      ]
     },
     "execution_count": 232,
     "metadata": {},
     "output_type": "execute_result"
    }
   ],
   "source": [
    "A_ + B_"
   ]
  },
  {
   "cell_type": "markdown",
   "id": "e6b2ecf9",
   "metadata": {},
   "source": [
    "# np.zeros, np.ones\n",
    "\n",
    "Filling  arrays with numbers, say\n",
    "\n",
    "- zeros"
   ]
  },
  {
   "cell_type": "code",
   "execution_count": 233,
   "id": "a25afe6c",
   "metadata": {},
   "outputs": [
    {
     "data": {
      "text/plain": [
       "array([[0., 0.],\n",
       "       [0., 0.],\n",
       "       [0., 0.],\n",
       "       [0., 0.]])"
      ]
     },
     "execution_count": 233,
     "metadata": {},
     "output_type": "execute_result"
    }
   ],
   "source": [
    "A42 = np.zeros((4,2))\n",
    "A42"
   ]
  },
  {
   "cell_type": "markdown",
   "id": "9f1a89df",
   "metadata": {},
   "source": [
    "- ones"
   ]
  },
  {
   "cell_type": "code",
   "execution_count": 234,
   "id": "0dde198e",
   "metadata": {},
   "outputs": [
    {
     "data": {
      "text/plain": [
       "array([[1., 1., 1.],\n",
       "       [1., 1., 1.],\n",
       "       [1., 1., 1.],\n",
       "       [1., 1., 1.],\n",
       "       [1., 1., 1.]])"
      ]
     },
     "execution_count": 234,
     "metadata": {},
     "output_type": "execute_result"
    }
   ],
   "source": [
    "A53 = np.ones((5,3))\n",
    "A53"
   ]
  },
  {
   "cell_type": "markdown",
   "id": "5231f52f",
   "metadata": {},
   "source": [
    "- zeros (or ones) with the same shape as another existing ndarray"
   ]
  },
  {
   "cell_type": "code",
   "execution_count": 235,
   "id": "ee77e872",
   "metadata": {},
   "outputs": [
    {
     "data": {
      "text/plain": [
       "array([[0., 0., 0.],\n",
       "       [0., 0., 0.],\n",
       "       [0., 0., 0.],\n",
       "       [0., 0., 0.],\n",
       "       [0., 0., 0.]])"
      ]
     },
     "execution_count": 235,
     "metadata": {},
     "output_type": "execute_result"
    }
   ],
   "source": [
    "X = np.zeros_like(A53)\n",
    "X"
   ]
  },
  {
   "cell_type": "markdown",
   "id": "4379cb0f",
   "metadata": {},
   "source": [
    "# np.arange, np.reshape\n",
    "\n",
    "Building an array and filling it with the values in a 1-D list"
   ]
  },
  {
   "cell_type": "code",
   "execution_count": 236,
   "id": "e9ffd26e",
   "metadata": {},
   "outputs": [
    {
     "data": {
      "text/plain": [
       "array([[3, 4],\n",
       "       [5, 6],\n",
       "       [7, 8]])"
      ]
     },
     "execution_count": 236,
     "metadata": {},
     "output_type": "execute_result"
    }
   ],
   "source": [
    "np.arange(3,9).reshape(3,2)"
   ]
  },
  {
   "cell_type": "code",
   "execution_count": 237,
   "id": "7b037d90",
   "metadata": {},
   "outputs": [
    {
     "data": {
      "text/plain": [
       "array([0, 1, 2, 3, 4, 5, 6, 7, 8, 9])"
      ]
     },
     "execution_count": 237,
     "metadata": {},
     "output_type": "execute_result"
    }
   ],
   "source": [
    "np.arange(10)\n"
   ]
  },
  {
   "cell_type": "markdown",
   "id": "97d819e4",
   "metadata": {},
   "source": [
    "\n",
    "# np.linspace\n",
    "\n",
    "Return some linearly spaced numbers"
   ]
  },
  {
   "cell_type": "code",
   "execution_count": 238,
   "id": "5597ef0a",
   "metadata": {},
   "outputs": [
    {
     "data": {
      "text/plain": [
       "array([-10.        ,  -9.59183673,  -9.18367347,  -8.7755102 ,\n",
       "        -8.36734694,  -7.95918367,  -7.55102041,  -7.14285714,\n",
       "        -6.73469388,  -6.32653061,  -5.91836735,  -5.51020408,\n",
       "        -5.10204082,  -4.69387755,  -4.28571429,  -3.87755102,\n",
       "        -3.46938776,  -3.06122449,  -2.65306122,  -2.24489796,\n",
       "        -1.83673469,  -1.42857143,  -1.02040816,  -0.6122449 ,\n",
       "        -0.20408163,   0.20408163,   0.6122449 ,   1.02040816,\n",
       "         1.42857143,   1.83673469,   2.24489796,   2.65306122,\n",
       "         3.06122449,   3.46938776,   3.87755102,   4.28571429,\n",
       "         4.69387755,   5.10204082,   5.51020408,   5.91836735,\n",
       "         6.32653061,   6.73469388,   7.14285714,   7.55102041,\n",
       "         7.95918367,   8.36734694,   8.7755102 ,   9.18367347,\n",
       "         9.59183673,  10.        ])"
      ]
     },
     "execution_count": 238,
     "metadata": {},
     "output_type": "execute_result"
    }
   ],
   "source": [
    "np.linspace(-10, 10 ,50)"
   ]
  },
  {
   "cell_type": "markdown",
   "id": "945ec8cb",
   "metadata": {},
   "source": [
    "A less efficient but equaly exact way to do it \"by hand\"."
   ]
  },
  {
   "cell_type": "code",
   "execution_count": 239,
   "id": "93e105ac",
   "metadata": {},
   "outputs": [],
   "source": [
    "def my_linspace(start, stop, number):\n",
    "  step = (stop-start)/(number-1)\n",
    "  return [ start + x * step  for x in range(number)]"
   ]
  },
  {
   "cell_type": "code",
   "execution_count": 240,
   "id": "bd095826",
   "metadata": {},
   "outputs": [
    {
     "data": {
      "text/plain": [
       "[-10.0,\n",
       " -9.591836734693878,\n",
       " -9.183673469387756,\n",
       " -8.775510204081632,\n",
       " -8.36734693877551,\n",
       " -7.959183673469388,\n",
       " -7.551020408163265,\n",
       " -7.142857142857142,\n",
       " -6.73469387755102,\n",
       " -6.326530612244898,\n",
       " -5.918367346938775,\n",
       " -5.5102040816326525,\n",
       " -5.1020408163265305,\n",
       " -4.6938775510204085,\n",
       " -4.285714285714286,\n",
       " -3.8775510204081627,\n",
       " -3.4693877551020407,\n",
       " -3.0612244897959187,\n",
       " -2.6530612244897958,\n",
       " -2.244897959183673,\n",
       " -1.8367346938775508,\n",
       " -1.4285714285714288,\n",
       " -1.020408163265305,\n",
       " -0.612244897959183,\n",
       " -0.204081632653061,\n",
       " 0.204081632653061,\n",
       " 0.612244897959183,\n",
       " 1.0204081632653068,\n",
       " 1.4285714285714288,\n",
       " 1.8367346938775508,\n",
       " 2.2448979591836746,\n",
       " 2.6530612244897966,\n",
       " 3.0612244897959187,\n",
       " 3.4693877551020407,\n",
       " 3.8775510204081627,\n",
       " 4.2857142857142865,\n",
       " 4.6938775510204085,\n",
       " 5.1020408163265305,\n",
       " 5.510204081632654,\n",
       " 5.918367346938776,\n",
       " 6.326530612244898,\n",
       " 6.73469387755102,\n",
       " 7.142857142857142,\n",
       " 7.551020408163264,\n",
       " 7.95918367346939,\n",
       " 8.367346938775512,\n",
       " 8.775510204081634,\n",
       " 9.183673469387756,\n",
       " 9.591836734693878,\n",
       " 10.0]"
      ]
     },
     "execution_count": 240,
     "metadata": {},
     "output_type": "execute_result"
    }
   ],
   "source": [
    "my_linspace(-10, 10, 50)"
   ]
  },
  {
   "cell_type": "markdown",
   "id": "a21ddd46",
   "metadata": {},
   "source": [
    "# np.random"
   ]
  },
  {
   "cell_type": "code",
   "execution_count": 241,
   "id": "9fc7c45f",
   "metadata": {},
   "outputs": [
    {
     "data": {
      "text/plain": [
       "array([ 99.50641377,  96.0184011 , 100.66409825, 101.20402982,\n",
       "       101.02709031, 101.64531738, 100.53008025, 100.15635015,\n",
       "       102.38599419,  99.54881493, 100.11136513,  99.49365915,\n",
       "        99.82605704, 101.13855819,  98.77368659])"
      ]
     },
     "execution_count": 241,
     "metadata": {},
     "output_type": "execute_result"
    }
   ],
   "source": [
    "np.random.normal(100,2,size=15)"
   ]
  },
  {
   "cell_type": "markdown",
   "id": "ba6f70ef",
   "metadata": {},
   "source": [
    "## some distributions"
   ]
  },
  {
   "cell_type": "markdown",
   "id": "3961ff6d",
   "metadata": {},
   "source": [
    "## Normal"
   ]
  },
  {
   "cell_type": "code",
   "execution_count": 248,
   "id": "2d152e06",
   "metadata": {},
   "outputs": [
    {
     "name": "stdout",
     "output_type": "stream",
     "text": [
      "[[11.06036947 15.16123812 11.49540504]\n",
      " [ 9.6821476  10.46115927  7.60167452]\n",
      " [ 8.84995926  9.54321211 10.41046787]\n",
      " [10.86848371 11.01016576  7.20817083]\n",
      " [10.3725837   8.76869122 12.13252802]\n",
      " [ 7.64032073 11.61998647 10.5571171 ]\n",
      " [12.67557356 10.80523579  8.17632354]]\n",
      "10.29051493652197\n",
      "1.843900600102521\n"
     ]
    }
   ],
   "source": [
    "X=np.random.normal(10,2,21).reshape(7,3)\n",
    "print(X)\n",
    "print(np.mean(X))\n",
    "print(np.std(X))"
   ]
  },
  {
   "cell_type": "markdown",
   "id": "db4ff43e",
   "metadata": {},
   "source": [
    "# Uniform"
   ]
  },
  {
   "cell_type": "code",
   "execution_count": 253,
   "id": "a74f12e9",
   "metadata": {},
   "outputs": [
    {
     "name": "stdout",
     "output_type": "stream",
     "text": [
      "[5.68328107 2.44781495 5.07034568 1.97477459 8.40695649 9.23679067\n",
      " 2.14643291 4.37223528 8.25429398 1.95993618 7.34880595 6.62683744\n",
      " 1.86098147 5.46769591 2.6456195  3.12027433 6.2117987  4.16367809\n",
      " 6.17489874 1.89027104]\n",
      "4.753186148791469\n",
      "2.3809352159550556\n"
     ]
    }
   ],
   "source": [
    "X=np.random.uniform(1,10,20)\n",
    "print(X)\n",
    "print(np.mean(X))\n",
    "print(np.std(X))"
   ]
  },
  {
   "cell_type": "markdown",
   "id": "774543ed",
   "metadata": {},
   "source": [
    "Some functions apply to some dimension (axis) of the matrix"
   ]
  },
  {
   "cell_type": "code",
   "execution_count": 249,
   "id": "7558b2d1",
   "metadata": {},
   "outputs": [
    {
     "data": {
      "text/plain": [
       "array([[2, 4],\n",
       "       [9, 3]])"
      ]
     },
     "execution_count": 249,
     "metadata": {},
     "output_type": "execute_result"
    }
   ],
   "source": [
    "A=np.array([[2, 4], [9, 3]])\n",
    "A"
   ]
  },
  {
   "cell_type": "code",
   "execution_count": null,
   "id": "600a4c59",
   "metadata": {},
   "outputs": [
    {
     "data": {
      "text/plain": [
       "array([11,  7])"
      ]
     },
     "execution_count": 192,
     "metadata": {},
     "output_type": "execute_result"
    }
   ],
   "source": [
    "A.sum(0)"
   ]
  },
  {
   "cell_type": "code",
   "execution_count": null,
   "id": "dbc6103f",
   "metadata": {},
   "outputs": [
    {
     "data": {
      "text/plain": [
       "array([ 6, 12])"
      ]
     },
     "execution_count": 193,
     "metadata": {},
     "output_type": "execute_result"
    }
   ],
   "source": [
    "A.sum(1)"
   ]
  },
  {
   "cell_type": "code",
   "execution_count": null,
   "id": "606a3a84",
   "metadata": {},
   "outputs": [
    {
     "data": {
      "text/plain": [
       "np.int64(18)"
      ]
     },
     "execution_count": 196,
     "metadata": {},
     "output_type": "execute_result"
    }
   ],
   "source": [
    "A.sum((0, 1))"
   ]
  },
  {
   "cell_type": "code",
   "execution_count": null,
   "id": "e75586eb",
   "metadata": {},
   "outputs": [
    {
     "data": {
      "text/plain": [
       "array([[[1, 2],\n",
       "        [3, 4]],\n",
       "\n",
       "       [[5, 6],\n",
       "        [7, 8]]])"
      ]
     },
     "execution_count": 201,
     "metadata": {},
     "output_type": "execute_result"
    }
   ],
   "source": [
    "A=np.array([[[1,2],[3,4]],[[5,6],[7,8]]])\n",
    "A"
   ]
  },
  {
   "cell_type": "code",
   "execution_count": null,
   "id": "2f1fc278",
   "metadata": {},
   "outputs": [
    {
     "data": {
      "text/plain": [
       "array([[ 6,  8],\n",
       "       [10, 12]])"
      ]
     },
     "execution_count": 207,
     "metadata": {},
     "output_type": "execute_result"
    }
   ],
   "source": [
    "A.sum(0)"
   ]
  },
  {
   "cell_type": "code",
   "execution_count": null,
   "id": "dbac8f81",
   "metadata": {},
   "outputs": [
    {
     "data": {
      "text/plain": [
       "array([[ 3,  7],\n",
       "       [11, 15]])"
      ]
     },
     "execution_count": 209,
     "metadata": {},
     "output_type": "execute_result"
    }
   ],
   "source": [
    "A.sum(2)"
   ]
  },
  {
   "cell_type": "markdown",
   "id": "b56ad623",
   "metadata": {},
   "source": [
    "# Broadcasting\n"
   ]
  },
  {
   "cell_type": "code",
   "execution_count": 302,
   "id": "3b5ba849",
   "metadata": {},
   "outputs": [
    {
     "data": {
      "text/plain": [
       "(3, 3, 3)"
      ]
     },
     "execution_count": 302,
     "metadata": {},
     "output_type": "execute_result"
    }
   ],
   "source": [
    "A=np.arange(27).reshape(3,3,3)\n",
    "B=np.arange(3).reshape(3,1)\n",
    "A+B\n",
    "(A+B).shape"
   ]
  },
  {
   "cell_type": "code",
   "execution_count": 281,
   "id": "140db970",
   "metadata": {},
   "outputs": [
    {
     "data": {
      "text/plain": [
       "1"
      ]
     },
     "execution_count": 281,
     "metadata": {},
     "output_type": "execute_result"
    }
   ],
   "source": [
    "12//10"
   ]
  },
  {
   "cell_type": "markdown",
   "id": "23222d5a",
   "metadata": {},
   "source": [
    "# np.argsort"
   ]
  },
  {
   "cell_type": "code",
   "execution_count": 314,
   "id": "68e88e34",
   "metadata": {},
   "outputs": [
    {
     "name": "stdout",
     "output_type": "stream",
     "text": [
      "Flat indices: [3 5 1]\n",
      "2D positions: (array([1, 1, 0]), array([0, 2, 1]))\n",
      "Values: [1 2 3]\n"
     ]
    }
   ],
   "source": [
    "# 2D array\n",
    "arr = np.array([[10, 3, 5],\n",
    "                [1, 8, 2]])\n",
    "\n",
    "# Flattened index of the 3 smallest elements\n",
    "flat_indices = np.argsort(arr, axis=None)[:3]\n",
    "\n",
    "# Convert to 2D positions\n",
    "positions = np.unravel_index(flat_indices, arr.shape)\n",
    "\n",
    "# Display results\n",
    "print(\"Flat indices:\", flat_indices)\n",
    "print(\"2D positions:\", positions)\n",
    "print(\"Values:\", arr[positions])\n"
   ]
  },
  {
   "cell_type": "markdown",
   "id": "5f5979de",
   "metadata": {},
   "source": [
    "# my_argsort"
   ]
  },
  {
   "cell_type": "code",
   "execution_count": 327,
   "id": "d0b3ca85",
   "metadata": {},
   "outputs": [
    {
     "name": "stdout",
     "output_type": "stream",
     "text": [
      "[1, 3, 4, 8, 9, 5, 2, 7]\n"
     ]
    },
    {
     "data": {
      "text/plain": [
       "[1, 2, 3]"
      ]
     },
     "execution_count": 327,
     "metadata": {},
     "output_type": "execute_result"
    }
   ],
   "source": [
    "L=[1,3,4,8,9,5,2,7]\n",
    "LS=sorted(L)\n",
    "print(L)\n",
    "[L[y] for y in ([L.index(x) for x in LS] [:3])]"
   ]
  },
  {
   "cell_type": "markdown",
   "id": "03f47a63",
   "metadata": {},
   "source": [
    "# Adding axis"
   ]
  },
  {
   "cell_type": "code",
   "execution_count": 328,
   "id": "22b799dd",
   "metadata": {},
   "outputs": [],
   "source": [
    "D=np.array([1,3,7,5])"
   ]
  },
  {
   "cell_type": "code",
   "execution_count": 329,
   "id": "2d660b17",
   "metadata": {},
   "outputs": [
    {
     "data": {
      "text/plain": [
       "(4,)"
      ]
     },
     "execution_count": 329,
     "metadata": {},
     "output_type": "execute_result"
    }
   ],
   "source": [
    "D.shape"
   ]
  },
  {
   "cell_type": "code",
   "execution_count": 332,
   "id": "9fec1ae9",
   "metadata": {},
   "outputs": [
    {
     "data": {
      "text/plain": [
       "array([[1],\n",
       "       [3],\n",
       "       [7],\n",
       "       [5]])"
      ]
     },
     "execution_count": 332,
     "metadata": {},
     "output_type": "execute_result"
    }
   ],
   "source": [
    "D[:,np.newaxis]"
   ]
  },
  {
   "cell_type": "code",
   "execution_count": 333,
   "id": "0509c437",
   "metadata": {},
   "outputs": [
    {
     "data": {
      "text/plain": [
       "array([[1, 3, 7, 5]])"
      ]
     },
     "execution_count": 333,
     "metadata": {},
     "output_type": "execute_result"
    }
   ],
   "source": [
    "D[np.newaxis,:]"
   ]
  },
  {
   "cell_type": "code",
   "execution_count": 331,
   "id": "b018edea",
   "metadata": {},
   "outputs": [
    {
     "data": {
      "text/plain": [
       "array([[ 0, -2, -6, -4],\n",
       "       [ 2,  0, -4, -2],\n",
       "       [ 6,  4,  0,  2],\n",
       "       [ 4,  2, -2,  0]])"
      ]
     },
     "execution_count": 331,
     "metadata": {},
     "output_type": "execute_result"
    }
   ],
   "source": [
    "D[:,np.newaxis] - D[np.newaxis,:]"
   ]
  }
 ],
 "metadata": {
  "kernelspec": {
   "display_name": "Python 3 (ipykernel)",
   "language": "python",
   "name": "python3"
  },
  "language_info": {
   "codemirror_mode": {
    "name": "ipython",
    "version": 3
   },
   "file_extension": ".py",
   "mimetype": "text/x-python",
   "name": "python",
   "nbconvert_exporter": "python",
   "pygments_lexer": "ipython3",
   "version": "3.13.3"
  }
 },
 "nbformat": 4,
 "nbformat_minor": 5
}
