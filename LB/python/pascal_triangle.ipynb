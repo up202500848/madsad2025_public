{
 "cells": [
  {
   "cell_type": "code",
   "execution_count": 1,
   "id": "a3505202",
   "metadata": {},
   "outputs": [],
   "source": [
    "def pascal_david(level):\n",
    "  if level==1:\n",
    "    return [1]\n",
    "  \n",
    "  row = [1,1]\n",
    "  for p in range(0,level-2):\n",
    "    nextRow=[row[0]]\n",
    "    for i in range(0, len(row)-1):\n",
    "      next = row[i]+row[i+1]\n",
    "      nextRow = nextRow + [next]\n",
    "    nextRow = nextRow + [row[-1]]\n",
    "    row = nextRow\n",
    "  return row\n"
   ]
  },
  {
   "cell_type": "code",
   "execution_count": 2,
   "id": "7a8188ca",
   "metadata": {},
   "outputs": [
    {
     "name": "stdout",
     "output_type": "stream",
     "text": [
      "[1, 4, 6, 4, 1]\n"
     ]
    }
   ],
   "source": [
    "print(pascal_david(5))"
   ]
  },
  {
   "cell_type": "code",
   "execution_count": 3,
   "id": "0db323e5",
   "metadata": {},
   "outputs": [],
   "source": [
    "def pascal_prof(n):\n",
    "  L=[1]\n",
    "  for k in range(n-1):\n",
    "    M=[]\n",
    "    for i in range(len(L)-1):\n",
    "      M.append(L[i]+L[i+1])\n",
    "    L=[1]+M+[1]\n",
    "  return L"
   ]
  },
  {
   "cell_type": "code",
   "execution_count": 4,
   "id": "6deaac4c",
   "metadata": {},
   "outputs": [
    {
     "name": "stdout",
     "output_type": "stream",
     "text": [
      "[1, 4, 6, 4, 1]\n"
     ]
    }
   ],
   "source": [
    "print(pascal_prof(5))"
   ]
  },
  {
   "cell_type": "code",
   "execution_count": null,
   "id": "b8b60806",
   "metadata": {},
   "outputs": [],
   "source": [
    "\n",
    "def pascal_copilot(n):\n",
    "    row = [1]\n",
    "    for k in range(1, n):\n",
    "        next_val = row[-1] * (n - k) // k\n",
    "        row.append(next_val)\n",
    "    return row\n"
   ]
  },
  {
   "cell_type": "code",
   "execution_count": 20,
   "id": "dca29cf0",
   "metadata": {},
   "outputs": [
    {
     "data": {
      "text/plain": [
       "[1, 4, 6, 4, 1]"
      ]
     },
     "execution_count": 20,
     "metadata": {},
     "output_type": "execute_result"
    }
   ],
   "source": [
    "pascal_copilot(5)"
   ]
  },
  {
   "cell_type": "code",
   "execution_count": 21,
   "id": "7bfdd7d7",
   "metadata": {},
   "outputs": [
    {
     "name": "stdout",
     "output_type": "stream",
     "text": [
      "True\n",
      "True\n",
      "True\n",
      "True\n",
      "True\n",
      "True\n",
      "True\n",
      "True\n",
      "True\n",
      "True\n"
     ]
    }
   ],
   "source": [
    "# some testing\n",
    "for i in range(1000,1010):\n",
    "  print(pascal_david(i)==pascal_prof(i) and pascal_david(i)==pascal_copilot(i))\n",
    "\n",
    "  "
   ]
  }
 ],
 "metadata": {
  "kernelspec": {
   "display_name": "Python 3 (ipykernel)",
   "language": "python",
   "name": "python3"
  },
  "language_info": {
   "codemirror_mode": {
    "name": "ipython",
    "version": 3
   },
   "file_extension": ".py",
   "mimetype": "text/x-python",
   "name": "python",
   "nbconvert_exporter": "python",
   "pygments_lexer": "ipython3",
   "version": "3.13.3"
  }
 },
 "nbformat": 4,
 "nbformat_minor": 5
}
