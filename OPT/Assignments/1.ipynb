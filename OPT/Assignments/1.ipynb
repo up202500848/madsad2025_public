{
 "cells": [
  {
   "cell_type": "markdown",
   "id": "93d6844d",
   "metadata": {},
   "source": [
    "# 1. Variáveis e objectivo\n",
    "\n",
    "Variáveis binárias\n",
    "\n",
    "$$\n",
    "x_{ij}=\\begin{cases}\n",
    "1,&\\text{se a aresta/viagem } i\\to j \\text{ é usada no circuito},\\\\\n",
    "0,&\\text{caso contrário},\n",
    "\\end{cases}\\qquad i,j\\in V,\\ i\\neq j.\n",
    "$$\n",
    "\n",
    "O objetivo é minimizar o custo total do circuito Hamiltoniano:\n",
    "\n",
    "$$\n",
    "min \\sum_{i\\in V} \\sum_{\\substack{j\\in V\\\\j\\neq i}} c_{ij}x_{ij}.\n",
    "$$\n",
    "\n"
   ]
  },
  {
   "cell_type": "markdown",
   "id": "deee9ae8",
   "metadata": {},
   "source": [
    "# 2. Restrições de grau\n",
    "\n",
    "Garantimos que cada cidade tem exatamente uma aresta que entra e uma que sai:\n",
    "\n",
    "$$\n",
    "\\sum_{\\substack{j\\in V\\\\j\\neq i}}x_{ij} = 1, \\forall i \\in V (\\text{sai uma aresta de }i)\\\\\\\\\n",
    "\\sum_{\\substack{i\\in V\\\\j\\neq i}}x_{ij} = 1, \\forall j \\in V (\\text{entra uma aresta em }j)\n",
    "\n",
    "$$"
   ]
  },
  {
   "cell_type": "markdown",
   "id": "8e45458c",
   "metadata": {},
   "source": [
    "# 3. Eliminação de subtours\n",
    "\n"
   ]
  }
 ],
 "metadata": {
  "language_info": {
   "name": "python"
  }
 },
 "nbformat": 4,
 "nbformat_minor": 5
}
